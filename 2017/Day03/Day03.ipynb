{
 "cells": [
  {
   "cell_type": "code",
   "execution_count": 6,
   "metadata": {
    "collapsed": true
   },
   "outputs": [],
   "source": [
    "# Python 3.x Utility Functions\n",
    "# From https://github.com/norvig/pytudes/blob/master/ipynb/Advent 2017.ipynb\n",
    "\n",
    "import re\n",
    "import numpy as np\n",
    "import math\n",
    "import random\n",
    "import urllib.request\n",
    "\n",
    "from collections import Counter, defaultdict, namedtuple, deque, abc, OrderedDict\n",
    "from functools   import lru_cache\n",
    "from itertools   import (permutations, combinations, chain, cycle, product, islice, \n",
    "                         takewhile, zip_longest, count as count_from)\n",
    "from heapq       import heappop, heappush\n",
    "\n",
    "identity = lambda x: x\n",
    "letters  = 'abcdefghijklmnopqrstuvwxyz'\n",
    "\n",
    "cat = ''.join\n",
    "\n",
    "Ø   = frozenset() # Empty set\n",
    "inf = float('inf')\n",
    "BIG = 10 ** 999"
   ]
  },
  {
   "cell_type": "markdown",
   "metadata": {},
   "source": [
    "# Day 03\n",
    "### First Problem"
   ]
  },
  {
   "cell_type": "markdown",
   "metadata": {},
   "source": [
    "This one is tricky. I will create first a mapping function between a number and a tuple (x, y)\n",
    "with the position of that number in the spiral"
   ]
  },
  {
   "cell_type": "markdown",
   "metadata": {},
   "source": [
    "|Number | X | Y|\n",
    "|-----|----|----|\n",
    "| 1 | 0 | 0|\n",
    "| 2 | 1 | 0|\n",
    "| 3 | 1 | 1|\n",
    "| 4 | 0 | 1|\n",
    "| 5 | -1 | 1|\n",
    "| 6 | -1 | 0|\n",
    "| 7 | -1 | -1|\n",
    "| 8 | 0 | -1|\n",
    "| 9 | 1 | -1|\n",
    "| 10 | 2 | -1|\n",
    "| 11 | 2 | 0|\n",
    "| 12 | 2 | 1|\n",
    "| 13 | 2 | 2|\n",
    "| 14 | 1 | 2|\n",
    "| 15 | 0 | 2|"
   ]
  },
  {
   "cell_type": "code",
   "execution_count": 7,
   "metadata": {
    "collapsed": true
   },
   "outputs": [],
   "source": [
    "# Get last element of the level:\n",
    "def last_e(level):\n",
    "    if level == 1:\n",
    "        return 1\n",
    "    else:\n",
    "        return last_e(level - 1) + 8 * (level - 1)\n",
    "    "
   ]
  },
  {
   "cell_type": "code",
   "execution_count": 8,
   "metadata": {
    "collapsed": true
   },
   "outputs": [],
   "source": [
    "# Get the level for the number\n",
    "def level_n(n):\n",
    "    level = 1\n",
    "    if n == 1:\n",
    "        level = 1\n",
    "        return level\n",
    "    else:\n",
    "        while (n > last_e(level)):\n",
    "            level = level + 1\n",
    "        return level"
   ]
  },
  {
   "cell_type": "code",
   "execution_count": 9,
   "metadata": {
    "collapsed": true
   },
   "outputs": [],
   "source": [
    "# Positioning function\n",
    "def req0301(n):    \n",
    "    if n == 1:\n",
    "        return np.array([0, 0])\n",
    "    level = level_n(n)\n",
    "    last = last_e(level)\n",
    "    side_size = (level - 1) * 2\n",
    "    position_last_e = np.array([(level - 1), -1 * (level - 1)])\n",
    "    start_position =  position_last_e\n",
    "    distance = last - n\n",
    "    sides = distance // side_size\n",
    "    extra_steps = distance % side_size\n",
    "    walk_sides = np.array([0, 0])\n",
    "    walk_extra = np.array([0, 0])\n",
    "    if sides == 0:\n",
    "        walk_extra = np.array([ -1 * extra_steps, 0])\n",
    "    elif sides == 1:\n",
    "        walk_sides = walk_sides + np.array([-1 * side_size, 0])\n",
    "        walk_extra = np.array([0, extra_steps])\n",
    "    elif sides == 2:\n",
    "        walk_sides = walk_sides + np.array([side_size * -1 , side_size])\n",
    "        walk_extra = np.array([extra_steps, 0])\n",
    "    elif sides == 3:\n",
    "        walk_sides = walk_sides + np.array([0, side_size])\n",
    "        walk_extra = np.array([0, -1 * extra_steps])\n",
    "    elif sides > 3:\n",
    "        print(\"Nein!\")\n",
    "        exit()\n",
    "    walked = start_position + walk_sides + walk_extra\n",
    "    #print({'Level': level,\n",
    "    #       'Last': last,\n",
    "    #       'side_size': side_size,\n",
    "    #       'start_position': start_position,\n",
    "    #       'position_last_e': position_last_e,\n",
    "    #       'Start': start_position, 'Walk sides': walk_sides ,\n",
    "    #       'Walk extra': walk_extra, \n",
    "    #       'Distance':distance,\n",
    "    #       'Sides':sides, \n",
    "    #       'Extra steps': extra_steps})\n",
    "    return walked\n",
    "        \n"
   ]
  },
  {
   "cell_type": "code",
   "execution_count": 10,
   "metadata": {
    "collapsed": false,
    "scrolled": true
   },
   "outputs": [
    {
     "data": {
      "text/plain": [
       "419"
      ]
     },
     "execution_count": 10,
     "metadata": {},
     "output_type": "execute_result"
    }
   ],
   "source": [
    "sum(abs(req0301(289326)))"
   ]
  },
  {
   "cell_type": "markdown",
   "metadata": {},
   "source": [
    "## Part 2"
   ]
  },
  {
   "cell_type": "code",
   "execution_count": 11,
   "metadata": {
    "collapsed": true
   },
   "outputs": [],
   "source": [
    "dic_vals = dict((tuple(req0301(x)), x) for x in range(1, 100000))"
   ]
  },
  {
   "cell_type": "code",
   "execution_count": 12,
   "metadata": {
    "collapsed": false
   },
   "outputs": [
    {
     "data": {
      "text/plain": [
       "390"
      ]
     },
     "execution_count": 12,
     "metadata": {},
     "output_type": "execute_result"
    }
   ],
   "source": [
    "dic_vals[(1,10)]"
   ]
  },
  {
   "cell_type": "code",
   "execution_count": 13,
   "metadata": {
    "collapsed": true
   },
   "outputs": [],
   "source": [
    "#For one number get numbers around it\n",
    "from itertools import compress\n",
    "\n",
    "def vecinos(n):\n",
    "    if n == 1:\n",
    "        return 1\n",
    "    position_n = req0301(n)\n",
    "    neighbors = [dic_vals[tuple(position_n + np.array([x, y]))] for x in [-1, 0, 1] for y in [-1, 0, 1]]\n",
    "    true_amigos = list(compress(neighbors, [x < n for x in neighbors]))\n",
    "    return true_amigos  \n",
    "    "
   ]
  },
  {
   "cell_type": "code",
   "execution_count": 21,
   "metadata": {
    "collapsed": true
   },
   "outputs": [],
   "source": [
    "def get_val(n):\n",
    "    if n == 1:\n",
    "        return 1\n",
    "    amigos = vecinos(n)\n",
    "    return sum([get_val(x) for x in amigos])"
   ]
  },
  {
   "cell_type": "code",
   "execution_count": 22,
   "metadata": {
    "collapsed": false
   },
   "outputs": [
    {
     "data": {
      "text/plain": [
       "10101"
      ]
     },
     "execution_count": 22,
     "metadata": {},
     "output_type": "execute_result"
    }
   ],
   "source": [
    "dic_vals[tuple(req0301(10101))]"
   ]
  },
  {
   "cell_type": "code",
   "execution_count": 29,
   "metadata": {
    "collapsed": false
   },
   "outputs": [
    {
     "data": {
      "text/plain": [
       "806"
      ]
     },
     "execution_count": 29,
     "metadata": {},
     "output_type": "execute_result"
    }
   ],
   "source": [
    "get_val(23)"
   ]
  },
  {
   "cell_type": "code",
   "execution_count": 31,
   "metadata": {
    "collapsed": false
   },
   "outputs": [
    {
     "name": "stdout",
     "output_type": "stream",
     "text": [
      "2 1\n",
      "3 2\n",
      "4 4\n",
      "5 5\n",
      "6 10\n",
      "7 11\n",
      "8 23\n",
      "9 25\n",
      "10 26\n",
      "11 54\n",
      "12 57\n",
      "13 59\n",
      "14 122\n",
      "15 133\n",
      "16 142\n",
      "17 147\n",
      "18 304\n",
      "19 330\n",
      "20 351\n",
      "21 362\n",
      "22 747\n",
      "23 806\n",
      "24 880\n",
      "25 931\n",
      "26 957\n",
      "27 1968\n",
      "28 2105\n",
      "29 2275\n",
      "30 2391\n",
      "31 2450\n",
      "32 5022\n",
      "33 5336\n",
      "34 5733\n",
      "35 6155\n",
      "36 6444\n",
      "37 6591\n",
      "38 13486\n",
      "39 14267\n",
      "40 15252\n",
      "41 16295\n",
      "42 17008\n",
      "43 17370\n",
      "44 35487\n",
      "45 37402\n",
      "46 39835\n",
      "47 42452\n",
      "48 45220\n",
      "49 47108\n",
      "50 48065\n",
      "51 98098\n",
      "52 103128\n",
      "53 109476\n",
      "54 116247\n",
      "55 123363\n",
      "56 128204\n",
      "57 130654\n",
      "58 266330\n",
      "59 279138\n",
      "60 295229\n",
      "60\n"
     ]
    }
   ],
   "source": [
    "number = 1\n",
    "val = get_val(number)\n",
    "while(val < 289326):\n",
    "    number = number + 1\n",
    "    val = get_val(number)\n",
    "    print(number, val)\n",
    "print(number)"
   ]
  },
  {
   "cell_type": "markdown",
   "metadata": {},
   "source": [
    "The result is `295229`"
   ]
  },
  {
   "cell_type": "code",
   "execution_count": null,
   "metadata": {
    "collapsed": true
   },
   "outputs": [],
   "source": []
  },
  {
   "cell_type": "code",
   "execution_count": null,
   "metadata": {
    "collapsed": true
   },
   "outputs": [],
   "source": []
  }
 ],
 "metadata": {
  "kernelspec": {
   "display_name": "Python 3",
   "language": "python",
   "name": "python3"
  },
  "language_info": {
   "codemirror_mode": {
    "name": "ipython",
    "version": 3
   },
   "file_extension": ".py",
   "mimetype": "text/x-python",
   "name": "python",
   "nbconvert_exporter": "python",
   "pygments_lexer": "ipython3",
   "version": "3.4.5"
  }
 },
 "nbformat": 4,
 "nbformat_minor": 1
}
