{
 "cells": [
  {
   "cell_type": "code",
   "execution_count": 3,
   "metadata": {
    "collapsed": true
   },
   "outputs": [],
   "source": [
    "# Python 3.x Utility Functions\n",
    "# From https://github.com/norvig/pytudes/blob/master/ipynb/Advent 2017.ipynb\n",
    "\n",
    "import re\n",
    "import numpy as np\n",
    "import math\n",
    "import random\n",
    "import urllib.request\n",
    "\n",
    "from collections import Counter, defaultdict, namedtuple, deque, abc, OrderedDict\n",
    "from functools   import lru_cache\n",
    "from itertools   import (permutations, combinations, chain, cycle, product, islice, \n",
    "                         takewhile, zip_longest, count as count_from)\n",
    "from heapq       import heappop, heappush\n",
    "\n",
    "identity = lambda x: x\n",
    "letters  = 'abcdefghijklmnopqrstuvwxyz'\n",
    "\n",
    "cat = ''.join\n",
    "\n",
    "Ø   = frozenset() # Empty set\n",
    "inf = float('inf')\n",
    "BIG = 10 ** 999"
   ]
  },
  {
   "cell_type": "markdown",
   "metadata": {},
   "source": [
    "# Day 03\n",
    "### First Problem"
   ]
  },
  {
   "cell_type": "markdown",
   "metadata": {},
   "source": [
    "This one is tricky. I will create first a mapping function between a number and a tuple (x, y)\n",
    "with the position of that number in the spiral"
   ]
  },
  {
   "cell_type": "markdown",
   "metadata": {},
   "source": [
    "|Number | X | Y|\n",
    "|-----|----|----|\n",
    "| 1 | 0 | 0|\n",
    "| 2 | 1 | 0|\n",
    "| 3 | 1 | 1|\n",
    "| 4 | 0 | 1|\n",
    "| 5 | -1 | 1|\n",
    "| 6 | -1 | 0|\n",
    "| 7 | -1 | -1|\n",
    "| 8 | 0 | -1|\n",
    "| 9 | 1 | -1|\n",
    "| 10 | 2 | -1|\n",
    "| 11 | 2 | 0|\n",
    "| 12 | 2 | 1|\n",
    "| 13 | 2 | 2|\n",
    "| 14 | 1 | 2|\n",
    "| 15 | 0 | 2|"
   ]
  },
  {
   "cell_type": "code",
   "execution_count": 27,
   "metadata": {
    "collapsed": true
   },
   "outputs": [],
   "source": [
    "# Get last element of the level:\n",
    "def last_e(level):\n",
    "    if level == 1:\n",
    "        return 1\n",
    "    else:\n",
    "        return last_e(level - 1) + 8 * (level - 1)\n",
    "    "
   ]
  },
  {
   "cell_type": "code",
   "execution_count": 33,
   "metadata": {
    "collapsed": true
   },
   "outputs": [],
   "source": [
    "# Get the level for the number\n",
    "def level_n(n):\n",
    "    level = 1\n",
    "    if n == 1:\n",
    "        level = 1\n",
    "        return level\n",
    "    else:\n",
    "        while (n > last_e(level)):\n",
    "            level = level + 1\n",
    "        return level"
   ]
  },
  {
   "cell_type": "code",
   "execution_count": 85,
   "metadata": {
    "collapsed": false
   },
   "outputs": [],
   "source": [
    "# Positioning function\n",
    "def req0301(n):    \n",
    "    if n == 1:\n",
    "        return np.array([0, 0])\n",
    "    level = level_n(n)\n",
    "    last = last_e(level-1)\n",
    "    side_size = (level - 1) * 2\n",
    "    position_last_e = np.array([(level - 2), -1 * (level - 2)])\n",
    "    start_position = np.array([0 , 1]) + position_last_e\n",
    "    distance = n - last\n",
    "    sides = distance // side_size\n",
    "    extra_steps = distance % side_size\n",
    "    walk_sides = np.array([0, 0])\n",
    "    walk_extra = np.array([0, 0])\n",
    "    if sides == 0:\n",
    "        walk_extra = np.array([0, extra_steps])\n",
    "    elif sides == 1:\n",
    "        walk_sides = walk_sides + np.array([0, side_size])\n",
    "        walk_extra = np.array([extra_steps * -1, 0])\n",
    "    elif sides == 2:\n",
    "        walk_sides = walk_sides + np.array([side_size * -1, side_size])\n",
    "        walk_extra = np.array([0, extra_steps * -1])\n",
    "    elif sides == 3:\n",
    "        walk_sides = walk_sides + np.array([side_size * -1, 0])\n",
    "        walk_extra = np.array([extra_steps, 0])\n",
    "    elif sides > 3:\n",
    "        print(\"Nein!\")\n",
    "        exit()\n",
    "    walked = start_position + walk_sides + walk_extra\n",
    "    print({'Level': level,\n",
    "           'Last': last,\n",
    "           'side_size': side_size,\n",
    "           'start_position': start_position,\n",
    "           'position_last_e': position_last_e,\n",
    "           'Start': start_position, 'Walk sides': walk_sides ,\n",
    "           'Walk extra': walk_extra, \n",
    "           'Distance':distance,\n",
    "           'Sides':sides, \n",
    "           'Extra steps': extra_steps})\n",
    "    return walked\n",
    "        \n"
   ]
  },
  {
   "cell_type": "code",
   "execution_count": 88,
   "metadata": {
    "collapsed": false
   },
   "outputs": [
    {
     "name": "stdout",
     "output_type": "stream",
     "text": [
      "{'side_size': 4, 'Walk extra': array([0, 1]), 'position_last_e': array([ 1, -1]), 'Level': 3, 'Distance': 1, 'Start': array([1, 0]), 'Last': 9, 'Walk sides': array([0, 0]), 'Extra steps': 1, 'start_position': array([1, 0]), 'Sides': 0}\n"
     ]
    },
    {
     "data": {
      "text/plain": [
       "array([1, 1])"
      ]
     },
     "execution_count": 88,
     "metadata": {},
     "output_type": "execute_result"
    }
   ],
   "source": [
    "req0301(10)"
   ]
  },
  {
   "cell_type": "code",
   "execution_count": 81,
   "metadata": {
    "collapsed": false
   },
   "outputs": [
    {
     "data": {
      "text/plain": [
       "25"
      ]
     },
     "execution_count": 81,
     "metadata": {},
     "output_type": "execute_result"
    }
   ],
   "source": [
    "last_e(3)"
   ]
  },
  {
   "cell_type": "code",
   "execution_count": 59,
   "metadata": {
    "collapsed": false
   },
   "outputs": [
    {
     "name": "stdout",
     "output_type": "stream",
     "text": [
      "1 2\n"
     ]
    }
   ],
   "source": [
    "print(1, 2)"
   ]
  },
  {
   "cell_type": "code",
   "execution_count": 58,
   "metadata": {
    "collapsed": false
   },
   "outputs": [
    {
     "data": {
      "text/plain": [
       "array([10,  1])"
      ]
     },
     "execution_count": 58,
     "metadata": {},
     "output_type": "execute_result"
    }
   ],
   "source": [
    "np.array([0, 1]) + np.array([10, 0])"
   ]
  }
 ],
 "metadata": {
  "kernelspec": {
   "display_name": "Python 3",
   "language": "python",
   "name": "python3"
  },
  "language_info": {
   "codemirror_mode": {
    "name": "ipython",
    "version": 3
   },
   "file_extension": ".py",
   "mimetype": "text/x-python",
   "name": "python",
   "nbconvert_exporter": "python",
   "pygments_lexer": "ipython3",
   "version": "3.4.5"
  }
 },
 "nbformat": 4,
 "nbformat_minor": 0
}
