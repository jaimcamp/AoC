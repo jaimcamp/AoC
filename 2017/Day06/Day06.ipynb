{
 "cells": [
  {
   "cell_type": "code",
   "execution_count": 1,
   "metadata": {
    "collapsed": true
   },
   "outputs": [],
   "source": [
    "# Python 3.x Utility Functions\n",
    "# From https://github.com/norvig/pytudes/blob/master/ipynb/Advent 2017.ipynb\n",
    "\n",
    "import re\n",
    "import numpy as np\n",
    "import math\n",
    "import random\n",
    "import urllib.request\n",
    "\n",
    "from collections import Counter, defaultdict, namedtuple, deque, abc, OrderedDict\n",
    "from functools   import lru_cache\n",
    "from itertools   import (permutations, combinations, chain, cycle, product, islice, \n",
    "                         takewhile, zip_longest, count as count_from)\n",
    "from heapq       import heappop, heappush\n",
    "\n",
    "identity = lambda x: x\n",
    "letters  = 'abcdefghijklmnopqrstuvwxyz'\n",
    "\n",
    "cat = ''.join\n",
    "\n",
    "Ø   = frozenset() # Empty set\n",
    "inf = float('inf')\n",
    "BIG = 10 ** 999"
   ]
  },
  {
   "cell_type": "markdown",
   "metadata": {},
   "source": [
    "# Day06\n",
    "# Part 1"
   ]
  },
  {
   "cell_type": "markdown",
   "metadata": {},
   "source": [
    "Example\n",
    "-------"
   ]
  },
  {
   "cell_type": "code",
   "execution_count": 59,
   "metadata": {
    "collapsed": true
   },
   "outputs": [],
   "source": [
    "ex = np.array([0, 2, 7, 0])"
   ]
  },
  {
   "cell_type": "code",
   "execution_count": 60,
   "metadata": {
    "collapsed": false
   },
   "outputs": [
    {
     "name": "stdout",
     "output_type": "stream",
     "text": [
      "[2 4 1 2]\n",
      "[3 1 2 3]\n",
      "[0 2 3 4]\n",
      "[1 3 4 1]\n",
      "[2 4 1 2]\n",
      "5\n"
     ]
    }
   ],
   "source": [
    "current = ex\n",
    "l = len(current)\n",
    "memory = np.empty((0,l), int)\n",
    "cycle = 0\n",
    "while True:\n",
    "    cycle += 1\n",
    "    max_ix = np.argmax(current)\n",
    "    to_give = current[max_ix]\n",
    "    memory = np.vstack((memory, current))\n",
    "    current[max_ix] = 0\n",
    "    for i in range(to_give):\n",
    "        current[(max_ix + 1 + i ) % l] += 1\n",
    "    print(current)\n",
    "    if np.any((memory == current).all(axis = 1)):\n",
    "        break\n",
    "print(cycle)"
   ]
  },
  {
   "cell_type": "markdown",
   "metadata": {},
   "source": [
    "### Read input file"
   ]
  },
  {
   "cell_type": "code",
   "execution_count": 68,
   "metadata": {
    "collapsed": false
   },
   "outputs": [],
   "source": [
    "input_f = np.fromfile('input.txt', sep = \" \", dtype= 'i')"
   ]
  },
  {
   "cell_type": "code",
   "execution_count": 69,
   "metadata": {
    "collapsed": false
   },
   "outputs": [
    {
     "name": "stdout",
     "output_type": "stream",
     "text": [
      "7864\n"
     ]
    }
   ],
   "source": [
    "current = input_f\n",
    "l = len(current)\n",
    "memory = np.empty((0,l), int)\n",
    "cycle = 0\n",
    "while True:\n",
    "    cycle += 1\n",
    "    max_ix = np.argmax(current)\n",
    "    to_give = current[max_ix]\n",
    "    memory = np.vstack((memory, current))\n",
    "    current[max_ix] = 0\n",
    "    for i in range(to_give):\n",
    "        current[(max_ix + 1 + i ) % l] += 1\n",
    "    if np.any((memory == current).all(axis = 1)):\n",
    "        break\n",
    "print(cycle)"
   ]
  },
  {
   "cell_type": "markdown",
   "metadata": {},
   "source": [
    "## Part 2"
   ]
  },
  {
   "cell_type": "code",
   "execution_count": 80,
   "metadata": {
    "collapsed": false
   },
   "outputs": [
    {
     "name": "stdout",
     "output_type": "stream",
     "text": [
      "[2 4 1 2]\n",
      "[False]\n",
      "[3 1 2 3]\n",
      "[False False]\n",
      "[0 2 3 4]\n",
      "[False False False]\n",
      "[1 3 4 1]\n",
      "[False False False False]\n",
      "[2 4 1 2]\n",
      "[False  True False False False]\n",
      "[3 1 2 3]\n",
      "[False False  True False False False]\n",
      "[0 2 3 4]\n",
      "[False False False  True False False False]\n",
      "[1 3 4 1]\n",
      "[False False False False  True False False False]\n",
      "[2 4 1 2]\n",
      "[False  True False False False  True False False False]\n",
      "9\n",
      "[[4]]\n"
     ]
    }
   ],
   "source": [
    "ex = np.array([0, 2, 7, 0])\n",
    "current = ex\n",
    "l = len(current)\n",
    "memory = np.empty((0,l), int)\n",
    "cycle = 0\n",
    "while True:\n",
    "    cycle += 1\n",
    "    max_ix = np.argmax(current)\n",
    "    to_give = current[max_ix]\n",
    "    memory = np.vstack((memory, current))\n",
    "    current[max_ix] = 0\n",
    "    for i in range(to_give):\n",
    "        current[(max_ix + 1 + i ) % l] += 1\n",
    "    print(current)\n",
    "    comparison = (memory == current).all(axis = 1)\n",
    "    print(comparison)\n",
    "    if np.sum(comparison) > 1:\n",
    "        break\n",
    "print(cycle)\n",
    "print(np.diff(np.where(comparison)))"
   ]
  },
  {
   "cell_type": "code",
   "execution_count": 81,
   "metadata": {
    "collapsed": false
   },
   "outputs": [
    {
     "name": "stdout",
     "output_type": "stream",
     "text": [
      "9559\n",
      "[[1695]]\n"
     ]
    }
   ],
   "source": [
    "input_f = np.fromfile('input.txt', sep = \" \", dtype= 'i')\n",
    "current = input_f\n",
    "l = len(current)\n",
    "memory = np.empty((0,l), int)\n",
    "cycle = 0\n",
    "while True:\n",
    "    cycle += 1\n",
    "    max_ix = np.argmax(current)\n",
    "    to_give = current[max_ix]\n",
    "    memory = np.vstack((memory, current))\n",
    "    current[max_ix] = 0\n",
    "    for i in range(to_give):\n",
    "        current[(max_ix + 1 + i ) % l] += 1\n",
    "    comparison = (memory == current).all(axis = 1)\n",
    "    if np.sum(comparison) > 1:\n",
    "        break\n",
    "print(cycle)\n",
    "print(np.diff(np.where(comparison)))"
   ]
  }
 ],
 "metadata": {
  "kernelspec": {
   "display_name": "Python 3",
   "language": "python",
   "name": "python3"
  },
  "language_info": {
   "codemirror_mode": {
    "name": "ipython",
    "version": 3
   },
   "file_extension": ".py",
   "mimetype": "text/x-python",
   "name": "python",
   "nbconvert_exporter": "python",
   "pygments_lexer": "ipython3",
   "version": "3.4.5"
  }
 },
 "nbformat": 4,
 "nbformat_minor": 0
}
