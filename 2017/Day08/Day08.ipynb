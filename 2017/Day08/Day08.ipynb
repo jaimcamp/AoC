{
 "cells": [
  {
   "cell_type": "code",
   "execution_count": 1,
   "metadata": {},
   "outputs": [],
   "source": [
    "# Python 3.x Utility Functions\n",
    "# From https://github.com/norvig/pytudes/blob/master/ipynb/Advent 2017.ipynb\n",
    "\n",
    "import re\n",
    "import numpy as np\n",
    "import math\n",
    "import random\n",
    "import urllib.request\n",
    "\n",
    "from collections import Counter, defaultdict, namedtuple, deque, abc, OrderedDict\n",
    "from functools   import lru_cache\n",
    "from itertools   import (permutations, combinations, chain, cycle, product, islice, \n",
    "                         takewhile, zip_longest, count as count_from)\n",
    "from heapq       import heappop, heappush\n",
    "\n",
    "identity = lambda x: x\n",
    "letters  = 'abcdefghijklmnopqrstuvwxyz'\n",
    "\n",
    "cat = ''.join\n",
    "\n",
    "Ø   = frozenset() # Empty set\n",
    "inf = float('inf')\n",
    "BIG = 10 ** 999"
   ]
  },
  {
   "cell_type": "code",
   "execution_count": 2,
   "metadata": {},
   "outputs": [],
   "source": [
    "# Part 1"
   ]
  },
  {
   "cell_type": "code",
   "execution_count": 58,
   "metadata": {},
   "outputs": [],
   "source": [
    "vals = set()\n",
    "#with open('example.txt') as f:\n",
    "#    for line in f:\n",
    "#        line = line.split()"
   ]
  },
  {
   "cell_type": "code",
   "execution_count": 59,
   "metadata": {},
   "outputs": [],
   "source": [
    "with open('example.txt') as f:\n",
    "    content = f.readlines()"
   ]
  },
  {
   "cell_type": "code",
   "execution_count": 60,
   "metadata": {},
   "outputs": [],
   "source": [
    "content = [x.replace('dec', '-').replace('inc', '+').split() for x in content]"
   ]
  },
  {
   "cell_type": "code",
   "execution_count": 61,
   "metadata": {},
   "outputs": [],
   "source": [
    "vals.update([x[0] for x in content])\n",
    "vals.update([x[4] for x in content])"
   ]
  },
  {
   "cell_type": "code",
   "execution_count": 62,
   "metadata": {},
   "outputs": [],
   "source": [
    "totalvals = {x: 0 for x in vals}"
   ]
  },
  {
   "cell_type": "code",
   "execution_count": 63,
   "metadata": {},
   "outputs": [
    {
     "data": {
      "text/plain": [
       "[['b', '+', '5', 'if', 'a', '>', '1'],\n",
       " ['a', '+', '1', 'if', 'b', '<', '5'],\n",
       " ['c', '-', '-10', 'if', 'a', '>=', '1'],\n",
       " ['c', '+', '-20', 'if', 'c', '==', '10']]"
      ]
     },
     "execution_count": 63,
     "metadata": {},
     "output_type": "execute_result"
    }
   ],
   "source": [
    "content"
   ]
  },
  {
   "cell_type": "code",
   "execution_count": 64,
   "metadata": {},
   "outputs": [
    {
     "name": "stdout",
     "output_type": "stream",
     "text": [
      "['a', '+', '1']\n",
      "['c', '-', '-10']\n",
      "['c', '+', '-20']\n",
      "{'b': 0, 'a': 1, 'c': -10}\n"
     ]
    }
   ],
   "source": [
    "for inst in content:\n",
    "    if eval(str(totalvals[inst[4]]) + ''.join(inst[5:])):\n",
    "        print(inst[0:3])\n",
    "        if inst[1]=='+':\n",
    "            totalvals[inst[0]] += int(inst[2])\n",
    "        elif inst[1]=='-':\n",
    "            totalvals[inst[0]] -= int(inst[2])\n",
    "print(totalvals)"
   ]
  },
  {
   "cell_type": "code",
   "execution_count": 67,
   "metadata": {},
   "outputs": [
    {
     "data": {
      "text/plain": [
       "'a'"
      ]
     },
     "execution_count": 67,
     "metadata": {},
     "output_type": "execute_result"
    }
   ],
   "source": [
    "max(totalvals, key=totalvals.get)"
   ]
  },
  {
   "cell_type": "code",
   "execution_count": 87,
   "metadata": {},
   "outputs": [
    {
     "data": {
      "text/plain": [
       "'oj'"
      ]
     },
     "execution_count": 87,
     "metadata": {},
     "output_type": "execute_result"
    }
   ],
   "source": [
    "# Part 1\n",
    "\n",
    "vals = set()\n",
    "with open('input.txt') as f:\n",
    "    content = f.readlines()\n",
    "\n",
    "content = [x.replace('dec', '-').replace('inc', '+').split() for x in content]\n",
    "\n",
    "vals.update([x[0] for x in content])\n",
    "vals.update([x[4] for x in content])\n",
    "\n",
    "totalvals = {x: 0 for x in vals}\n",
    "maxval = math.inf * -1\n",
    "\n",
    "for inst in content:\n",
    "    if eval(str(totalvals[inst[4]]) + ''.join(inst[5:])):\n",
    "        if inst[1]=='+':\n",
    "            totalvals[inst[0]] += int(inst[2])\n",
    "        elif inst[1]=='-':\n",
    "            totalvals[inst[0]] -= int(inst[2])\n",
    "    if( max(totalvals.values()) > maxval): maxval = max(totalvals.values())\n",
    "\n",
    "\n",
    "max(totalvals, key=totalvals.get)"
   ]
  },
  {
   "cell_type": "code",
   "execution_count": 88,
   "metadata": {},
   "outputs": [
    {
     "data": {
      "text/plain": [
       "6026"
      ]
     },
     "execution_count": 88,
     "metadata": {},
     "output_type": "execute_result"
    }
   ],
   "source": [
    "maxval"
   ]
  },
  {
   "cell_type": "code",
   "execution_count": 89,
   "metadata": {},
   "outputs": [
    {
     "data": {
      "text/plain": [
       "5946"
      ]
     },
     "execution_count": 89,
     "metadata": {},
     "output_type": "execute_result"
    }
   ],
   "source": [
    "max(totalvals.values())"
   ]
  },
  {
   "cell_type": "code",
   "execution_count": null,
   "metadata": {},
   "outputs": [],
   "source": []
  }
 ],
 "metadata": {
  "kernelspec": {
   "display_name": "Python 3",
   "language": "python",
   "name": "python3"
  },
  "language_info": {
   "codemirror_mode": {
    "name": "ipython",
    "version": 3
   },
   "file_extension": ".py",
   "mimetype": "text/x-python",
   "name": "python",
   "nbconvert_exporter": "python",
   "pygments_lexer": "ipython3",
   "version": "3.6.3"
  }
 },
 "nbformat": 4,
 "nbformat_minor": 2
}
