{
 "cells": [
  {
   "cell_type": "code",
   "execution_count": 1,
   "metadata": {
    "collapsed": true
   },
   "outputs": [],
   "source": [
    "# Python 3.x Utility Functions\n",
    "# From https://github.com/norvig/pytudes/blob/master/ipynb/Advent 2017.ipynb\n",
    "\n",
    "import re\n",
    "import numpy as np\n",
    "import math\n",
    "import random\n",
    "import urllib.request\n",
    "\n",
    "from collections import Counter, defaultdict, namedtuple, deque, abc, OrderedDict\n",
    "from functools   import lru_cache\n",
    "from itertools   import (permutations, combinations, chain, cycle, product, islice, \n",
    "                         takewhile, zip_longest, count as count_from)\n",
    "from heapq       import heappop, heappush\n",
    "\n",
    "identity = lambda x: x\n",
    "letters  = 'abcdefghijklmnopqrstuvwxyz'\n",
    "\n",
    "cat = ''.join\n",
    "\n",
    "Ø   = frozenset() # Empty set\n",
    "inf = float('inf')\n",
    "BIG = 10 ** 999"
   ]
  },
  {
   "cell_type": "markdown",
   "metadata": {},
   "source": [
    "# Day 05\n",
    "## Part 1"
   ]
  },
  {
   "cell_type": "markdown",
   "metadata": {},
   "source": [
    "Let's use a numpy array as path"
   ]
  },
  {
   "cell_type": "code",
   "execution_count": 57,
   "metadata": {
    "collapsed": false
   },
   "outputs": [
    {
     "name": "stdout",
     "output_type": "stream",
     "text": [
      "0 0 0 [ 1  3  0  1 -3]\n",
      "0 1 1 [ 2  3  0  1 -3]\n",
      "1 4 3 [ 2  2  0  1 -3]\n",
      "4 1 -3 [ 2  2  0  1 -2]\n",
      "1 3 2 [ 2  3  0  1 -2]\n",
      "3 4 1 [ 2  3  0  2 -2]\n",
      "4 2 -2 [ 2  3  0  2 -1]\n",
      "2 2 0 [ 2  3  1  2 -1]\n",
      "2 3 1 [ 2  3  2  2 -1]\n",
      "3 5 2 [ 2  3  2  3 -1]\n",
      "10\n"
     ]
    }
   ],
   "source": [
    "# Initial values\n",
    "total_step = 0\n",
    "prev_position = None\n",
    "position = 0\n",
    "array_path = np.array([0, 3, 0, 1, -3])\n",
    "l = len(array_path)\n",
    "dict_new_value = {key: None for key in range(l)}\n",
    "while(position < l):\n",
    "    total_step = total_step +1\n",
    "    step = array_path[position]\n",
    "    prev_position = position\n",
    "    position = position + step\n",
    "    array_path[prev_position] = array_path[prev_position] + ( -1 if step >= 3 else 1 )\n",
    "    print(prev_position, position, step, array_path)\n",
    "print(total_step)"
   ]
  },
  {
   "cell_type": "code",
   "execution_count": 59,
   "metadata": {
    "collapsed": false
   },
   "outputs": [],
   "source": [
    "input_txt = np.genfromtxt('input.txt', dtype='i')\n",
    "    "
   ]
  },
  {
   "cell_type": "code",
   "execution_count": 60,
   "metadata": {
    "collapsed": false
   },
   "outputs": [
    {
     "name": "stdout",
     "output_type": "stream",
     "text": [
      "30513679\n"
     ]
    }
   ],
   "source": [
    "# Initial values\n",
    "total_step = 0\n",
    "prev_position = None\n",
    "position = 0\n",
    "array_path = input_txt\n",
    "l = len(array_path)\n",
    "while(position < l):\n",
    "    total_step = total_step + 1\n",
    "    step = array_path[position]\n",
    "    prev_position = position\n",
    "    position = position + step\n",
    "    array_path[prev_position] = array_path[prev_position] + ( -1 if step >= 3 else 1)\n",
    "print(total_step)"
   ]
  },
  {
   "cell_type": "code",
   "execution_count": 51,
   "metadata": {
    "collapsed": false
   },
   "outputs": [
    {
     "data": {
      "text/plain": [
       "1092"
      ]
     },
     "execution_count": 51,
     "metadata": {},
     "output_type": "execute_result"
    }
   ],
   "source": [
    "len(array_path)"
   ]
  }
 ],
 "metadata": {
  "kernelspec": {
   "display_name": "Python 3",
   "language": "python",
   "name": "python3"
  },
  "language_info": {
   "codemirror_mode": {
    "name": "ipython",
    "version": 3
   },
   "file_extension": ".py",
   "mimetype": "text/x-python",
   "name": "python",
   "nbconvert_exporter": "python",
   "pygments_lexer": "ipython3",
   "version": "3.4.5"
  }
 },
 "nbformat": 4,
 "nbformat_minor": 0
}
