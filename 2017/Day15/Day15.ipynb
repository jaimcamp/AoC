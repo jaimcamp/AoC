{
 "cells": [
  {
   "cell_type": "code",
   "execution_count": 1,
   "metadata": {},
   "outputs": [],
   "source": [
    "# Python 3.x Utility Functions\n",
    "# From https://github.com/norvig/pytudes/blob/master/ipynb/Advent 2017.ipynb\n",
    "\n",
    "import re\n",
    "import numpy as np\n",
    "import math\n",
    "import random\n",
    "import urllib.request\n",
    "\n",
    "from collections import Counter, defaultdict, namedtuple, deque, abc, OrderedDict\n",
    "from functools   import lru_cache, reduce\n",
    "from itertools   import (permutations, combinations, chain, cycle, product, islice, \n",
    "                         takewhile, zip_longest, count as count_from)\n",
    "from heapq       import heappop, heappush\n",
    "\n",
    "identity = lambda x: x\n",
    "letters  = 'abcdefghijklmnopqrstuvwxyz'\n",
    "\n",
    "cat = ''.join\n",
    "\n",
    "Ø   = frozenset() # Empty set\n",
    "inf = float('inf')\n",
    "BIG = 10 ** 999"
   ]
  },
  {
   "cell_type": "code",
   "execution_count": 2,
   "metadata": {},
   "outputs": [],
   "source": [
    "#Part1"
   ]
  },
  {
   "cell_type": "code",
   "execution_count": 3,
   "metadata": {},
   "outputs": [],
   "source": [
    "def generator(prev, factor):\n",
    "    return (prev * factor) % 2147483647"
   ]
  },
  {
   "cell_type": "code",
   "execution_count": 68,
   "metadata": {},
   "outputs": [
    {
     "name": "stdout",
     "output_type": "stream",
     "text": [
      "569\n"
     ]
    }
   ],
   "source": [
    "equal_times = 0\n",
    "comparison = int(40e6)\n",
    "prev_a = 116\n",
    "prev_b = 299\n",
    "for i in range(comparison):\n",
    "    val_a = generator(prev_a, 16807)\n",
    "    val_b = generator(prev_b, 48271)\n",
    "    bit_e = int(bin(val_a)[2:][-16:].zfill(16), base = 2) ^ int(bin(val_b)[2:][-16:].zfill(16), base = 2)\n",
    "    if bit_e == 0:\n",
    "        equal_times += 1\n",
    "    prev_a = val_a \n",
    "    prev_b = val_b\n",
    "print(equal_times)  "
   ]
  },
  {
   "cell_type": "code",
   "execution_count": 2,
   "metadata": {},
   "outputs": [],
   "source": [
    "#Part1"
   ]
  },
  {
   "cell_type": "code",
   "execution_count": 69,
   "metadata": {},
   "outputs": [],
   "source": [
    "def generator(prev, factor, fancy):\n",
    "    tmp = (prev * factor) % 2147483647\n",
    "    if tmp % fancy == 0:\n",
    "        return tmp\n",
    "    else:\n",
    "        return generator(tmp, factor, fancy)"
   ]
  },
  {
   "cell_type": "code",
   "execution_count": 72,
   "metadata": {},
   "outputs": [
    {
     "name": "stdout",
     "output_type": "stream",
     "text": [
      "298\n"
     ]
    }
   ],
   "source": [
    "equal_times = 0\n",
    "comparison = int(5e6)\n",
    "prev_a = 116\n",
    "prev_b = 299\n",
    "for i in range(comparison):\n",
    "    val_a = generator(prev_a, 16807, 4)\n",
    "    val_b = generator(prev_b, 48271, 8)\n",
    "    bit_e = int(bin(val_a)[2:][-16:].zfill(16), base = 2) ^ int(bin(val_b)[2:][-16:].zfill(16), base = 2)\n",
    "    if bit_e == 0:\n",
    "        equal_times += 1\n",
    "    prev_a = val_a \n",
    "    prev_b = val_b\n",
    "print(equal_times)  "
   ]
  }
 ],
 "metadata": {
  "kernelspec": {
   "display_name": "Python 3",
   "language": "python",
   "name": "python3"
  },
  "language_info": {
   "codemirror_mode": {
    "name": "ipython",
    "version": 3
   },
   "file_extension": ".py",
   "mimetype": "text/x-python",
   "name": "python",
   "nbconvert_exporter": "python",
   "pygments_lexer": "ipython3",
   "version": "3.6.3"
  }
 },
 "nbformat": 4,
 "nbformat_minor": 2
}
