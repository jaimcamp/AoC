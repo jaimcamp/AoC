{
 "cells": [
  {
   "cell_type": "code",
   "execution_count": 1,
   "metadata": {},
   "outputs": [],
   "source": [
    "# Python 3.x Utility Functions\n",
    "# From https://github.com/norvig/pytudes/blob/master/ipynb/Advent 2017.ipynb\n",
    "\n",
    "import re\n",
    "import numpy as np\n",
    "import math\n",
    "import random\n",
    "import urllib.request\n",
    "\n",
    "from collections import Counter, defaultdict, namedtuple, deque, abc, OrderedDict\n",
    "from functools   import lru_cache\n",
    "from itertools   import (permutations, combinations, chain, cycle, product, islice, \n",
    "                         takewhile, zip_longest, count as count_from)\n",
    "from heapq       import heappop, heappush\n",
    "\n",
    "identity = lambda x: x\n",
    "letters  = 'abcdefghijklmnopqrstuvwxyz'\n",
    "\n",
    "cat = ''.join\n",
    "\n",
    "Ø   = frozenset() # Empty set\n",
    "inf = float('inf')\n",
    "BIG = 10 ** 999"
   ]
  },
  {
   "cell_type": "code",
   "execution_count": 3,
   "metadata": {},
   "outputs": [],
   "source": [
    "#Part 1"
   ]
  },
  {
   "cell_type": "code",
   "execution_count": 54,
   "metadata": {},
   "outputs": [],
   "source": [
    "#Add examples:\n",
    "ex1 = \"{}\"\n",
    "ex2 = \"{{{}}}\"\n",
    "ex3 = \"{{},{}}\"\n",
    "ex4 = \"{{{},{},{{}}}}\"\n",
    "ex5 = \"{<{},{},{{}}>}\"\n",
    "ex6 = \"{<a>,<a>,<a>,<a>}\"\n",
    "ex7 = \"{{<a>},{<a>},{<a>},{<a>}}\"\n",
    "ex8 = \"{{<!>},{<!>},{<!>},{<a>}}\""
   ]
  },
  {
   "cell_type": "code",
   "execution_count": 90,
   "metadata": {},
   "outputs": [],
   "source": [
    "#First let's deal with the levels\n",
    "level = 0\n",
    "total_levels = []\n",
    "prev_char = None\n",
    "garbage_on = False\n",
    "garbage_n = 0\n",
    "\n",
    "iter_str = enumerate(inputtxt)\n",
    "for count, x in iter_str:\n",
    "    #prev_char = ex1[count - 1] if prev_char is not None else None\n",
    "    if x == \"!\":\n",
    "        next(iter_str, None)\n",
    "        continue\n",
    "    elif x == \"{\" and not garbage_on:\n",
    "        level += 1\n",
    "        #print(\"up\")\n",
    "        #print(level)\n",
    "    elif x == \"}\" and not garbage_on:\n",
    "        total_levels.append(level)\n",
    "        level -= 1\n",
    "        #print(\"down\")\n",
    "        #print(level)\n",
    "    elif x == \"<\" and not garbage_on:\n",
    "        garbage_on = True\n",
    "    elif x == \">\":\n",
    "        garbage_on = False\n",
    "    elif garbage_on:\n",
    "        garbage_n += 1\n",
    "        \n",
    "    "
   ]
  },
  {
   "cell_type": "code",
   "execution_count": 91,
   "metadata": {},
   "outputs": [
    {
     "data": {
      "text/plain": [
       "4330"
      ]
     },
     "execution_count": 91,
     "metadata": {},
     "output_type": "execute_result"
    }
   ],
   "source": [
    "garbage_n"
   ]
  },
  {
   "cell_type": "code",
   "execution_count": 84,
   "metadata": {},
   "outputs": [],
   "source": [
    "with open('input.txt') as f:\n",
    "     inputtxt = f.readline()"
   ]
  },
  {
   "cell_type": "code",
   "execution_count": 85,
   "metadata": {},
   "outputs": [
    {
     "data": {
      "text/plain": [
       "3479"
      ]
     },
     "execution_count": 85,
     "metadata": {},
     "output_type": "execute_result"
    }
   ],
   "source": [
    "garbage_n"
   ]
  }
 ],
 "metadata": {
  "kernelspec": {
   "display_name": "Python 3",
   "language": "python",
   "name": "python3"
  },
  "language_info": {
   "codemirror_mode": {
    "name": "ipython",
    "version": 3
   },
   "file_extension": ".py",
   "mimetype": "text/x-python",
   "name": "python",
   "nbconvert_exporter": "python",
   "pygments_lexer": "ipython3",
   "version": "3.6.3"
  }
 },
 "nbformat": 4,
 "nbformat_minor": 2
}
