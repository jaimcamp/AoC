{
 "cells": [
  {
   "cell_type": "code",
   "execution_count": 1,
   "metadata": {},
   "outputs": [],
   "source": [
    "# Python 3.x Utility Functions\n",
    "# From https://github.com/norvig/pytudes/blob/master/ipynb/Advent 2017.ipynb\n",
    "\n",
    "import re\n",
    "import numpy as np\n",
    "import math\n",
    "import random\n",
    "import urllib.request\n",
    "\n",
    "from collections import Counter, defaultdict, namedtuple, deque, abc, OrderedDict\n",
    "from functools   import lru_cache\n",
    "from itertools   import (permutations, combinations, chain, cycle, product, islice, \n",
    "                         takewhile, zip_longest, count as count_from)\n",
    "from heapq       import heappop, heappush\n",
    "\n",
    "identity = lambda x: x\n",
    "letters  = 'abcdefghijklmnopqrstuvwxyz'\n",
    "\n",
    "cat = ''.join\n",
    "\n",
    "Ø   = frozenset() # Empty set\n",
    "inf = float('inf')\n",
    "BIG = 10 ** 999"
   ]
  },
  {
   "cell_type": "code",
   "execution_count": 2,
   "metadata": {},
   "outputs": [],
   "source": [
    "#Part01"
   ]
  },
  {
   "cell_type": "code",
   "execution_count": 59,
   "metadata": {},
   "outputs": [],
   "source": [
    "list_256 = np.arange(256)\n",
    "current_position = 0\n",
    "skip_size = 0\n",
    "lenghts = np.array([189,1,111,246,254,2,0,120,215,93,255,50,84,15,94,62])\n",
    "l = len(list_256)"
   ]
  },
  {
   "cell_type": "code",
   "execution_count": 60,
   "metadata": {},
   "outputs": [
    {
     "name": "stdout",
     "output_type": "stream",
     "text": [
      "[197 195 194 193 192 191 142 141 199 200 201 202 203 204 205 206 207 208\n",
      " 209 210 211 212 213 214 215 216 217 218   5   6 126 125 124 123 122 121\n",
      " 120 119 118 117 116 115 148 149 150 151 152 153 154 155 156 157 158 159\n",
      " 160 161 162 163 164 165 166 167 168 169 170 171 172 173 174 175 176 177\n",
      " 178 179 180 181 182 183 184 185  64  65  66  67  68  69  70  71  72  73\n",
      "  74 102 103 104 105 106 107 108 109 110 111 112 113 114 147 146 145 144\n",
      " 143 190 189  93  94  95  96  97  98  99 100  33  34  35  36  37  38  39\n",
      "  40  41  42  43  44  45  46  47  48  49  50  51  52  53  54  55  56  57\n",
      "  58  59  60  61  62  63 186 187 188 255 254 253 252 251 250 249 248 247\n",
      " 232 233 234 235 236 237 238 239 240 241 242 243 244 245 246 231 230 229\n",
      " 228 227 226 225 224 223 222 221 220 219   4   3   2   1   0  92  91  90\n",
      "  89  88  87  86  85  84  83  82  81  80  79  78  77  76  75 101  32  31\n",
      "  30  29  28  27  26  25  24  23  22  21  20  19  18  17  16  15  14  13\n",
      "  12  11  10   9   8   7 127 128 129 130 131 132 133 134 135 136 137 139\n",
      " 138 140 198 196]\n"
     ]
    }
   ],
   "source": [
    "for x in lenghts:\n",
    "    #print(x)\n",
    "    #print(current_position)\n",
    "    ix_totake = np.arange(current_position, current_position + x)\n",
    "    ix_totake = ix_totake % l\n",
    "    #print(ix_totake)\n",
    "    to_change = list_256[ix_totake]\n",
    "    #print(to_change)\n",
    "    list_256[ix_totake] = np.flipud(to_change)\n",
    "    #print(list_256)\n",
    "    current_position += x + skip_size\n",
    "    skip_size += 1\n",
    "print(list_256)\n",
    "    "
   ]
  },
  {
   "cell_type": "code",
   "execution_count": 61,
   "metadata": {},
   "outputs": [
    {
     "data": {
      "text/plain": [
       "38415"
      ]
     },
     "execution_count": 61,
     "metadata": {},
     "output_type": "execute_result"
    }
   ],
   "source": [
    "list_256[0] * list_256[1]"
   ]
  },
  {
   "cell_type": "code",
   "execution_count": 47,
   "metadata": {},
   "outputs": [
    {
     "data": {
      "text/plain": [
       "2"
      ]
     },
     "execution_count": 47,
     "metadata": {},
     "output_type": "execute_result"
    }
   ],
   "source": [
    "(3 +4) % l"
   ]
  }
 ],
 "metadata": {
  "kernelspec": {
   "display_name": "Python 3",
   "language": "python",
   "name": "python3"
  },
  "language_info": {
   "codemirror_mode": {
    "name": "ipython",
    "version": 3
   },
   "file_extension": ".py",
   "mimetype": "text/x-python",
   "name": "python",
   "nbconvert_exporter": "python",
   "pygments_lexer": "ipython3",
   "version": "3.6.3"
  }
 },
 "nbformat": 4,
 "nbformat_minor": 2
}
