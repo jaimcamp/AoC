{
 "cells": [
  {
   "cell_type": "code",
   "execution_count": 1,
   "metadata": {
    "collapsed": true
   },
   "outputs": [],
   "source": [
    "# Python 3.x Utility Functions\n",
    "# From https://github.com/norvig/pytudes/blob/master/ipynb/Advent 2017.ipynb\n",
    "\n",
    "import re\n",
    "import numpy as np\n",
    "import math\n",
    "import random\n",
    "import urllib.request\n",
    "\n",
    "from collections import Counter, defaultdict, namedtuple, deque, abc, OrderedDict\n",
    "from functools   import lru_cache\n",
    "from itertools   import (permutations, combinations, chain, cycle, product, islice, \n",
    "                         takewhile, zip_longest, count as count_from)\n",
    "from heapq       import heappop, heappush\n",
    "\n",
    "identity = lambda x: x\n",
    "letters  = 'abcdefghijklmnopqrstuvwxyz'\n",
    "\n",
    "cat = ''.join\n",
    "\n",
    "Ø   = frozenset() # Empty set\n",
    "inf = float('inf')\n",
    "BIG = 10 ** 999"
   ]
  },
  {
   "cell_type": "code",
   "execution_count": 26,
   "metadata": {
    "collapsed": false
   },
   "outputs": [],
   "source": [
    "# Read file\n",
    "input_a = np.fromfile(file = 'input.txt', sep = \"\\t\")"
   ]
  },
  {
   "cell_type": "code",
   "execution_count": 40,
   "metadata": {
    "collapsed": false
   },
   "outputs": [],
   "source": [
    "input_array = np.reshape(input_a, (16,16))"
   ]
  },
  {
   "cell_type": "code",
   "execution_count": 48,
   "metadata": {
    "collapsed": false
   },
   "outputs": [
    {
     "data": {
      "text/plain": [
       "array([[ 3751.,  3769.,  2769.,  2039.,  2794.,   240.,  3579.,  1228.,\n",
       "         4291.,   220.,   324.,  3960.,   211.,  1346.,   237.,  1586.],\n",
       "       [  550.,   589.,   538.,   110.,   167.,   567.,    99.,   203.,\n",
       "          524.,   288.,   500.,   111.,   118.,   185.,   505.,    74.],\n",
       "       [ 2127.,  1904.,   199.,   221.,  1201.,   250.,  1119.,   377.,\n",
       "         1633.,  1801.,  2011.,  1794.,   394.,   238.,   206.,   680.],\n",
       "       [  435.,  1703.,  1385.,  1461.,   213.,  1211.,   192.,  1553.,\n",
       "         1580.,   197.,   571.,   195.,   326.,  1491.,   869.,  1282.],\n",
       "       [  109.,   104.,  3033.,   120.,   652.,  2752.,  1822.,  2518.,\n",
       "         1289.,  1053.,  1397.,   951.,  3015.,  3016.,   125.,  1782.],\n",
       "       [ 2025.,  1920.,  1891.,    99.,  1057.,  1909.,  2237.,   106.,\n",
       "           97.,   920.,   603.,  1841.,  2150.,  1980.,  1970.,    88.],\n",
       "       [ 1870.,   170.,   167.,   176.,   306.,  1909.,  1825.,  1709.,\n",
       "          168.,  1400.,   359.,   817.,  1678.,  1718.,  1594.,  1552.],\n",
       "       [   98.,    81.,   216.,   677.,   572.,   295.,    38.,   574.,\n",
       "          403.,    74.,    91.,   534.,   662.,   588.,   511.,    51.],\n",
       "       [  453.,  1153.,   666.,   695.,    63.,    69.,    68.,    58.,\n",
       "          524.,  1088.,    75.,  1117.,  1192.,  1232.,  1046.,   443.],\n",
       "       [ 3893.,   441.,  1825.,  3730.,  3660.,   115.,  4503.,  4105.,\n",
       "         3495.,  4092.,    48.,  3852.,   132.,   156.,   150.,  4229.],\n",
       "       [  867.,    44.,   571.,    40.,   884.,   922.,   418.,   328.,\n",
       "          901.,   845.,    42.,   860.,   932.,    53.,   432.,   569.],\n",
       "       [  905.,   717.,   162.,  4536.,  4219.,   179.,   990.,   374.,\n",
       "         4409.,  4821.,   393.,  4181.,  4054.,  4958.,   186.,   193.],\n",
       "       [ 2610.,  2936.,   218.,  2552.,  3281.,   761.,   204.,  3433.,\n",
       "         3699.,  2727.,  3065.,  3624.,   193.,   926.,  1866.,   236.],\n",
       "       [ 2602.,   216.,   495.,  3733.,   183.,  4688.,  2893.,  4042.,\n",
       "         3066.,  3810.,   189.,  4392.,  3900.,  4321.,  2814.,   159.],\n",
       "       [  166.,   136.,    80.,   185.,   135.,    78.,   177.,   123.,\n",
       "           82.,   150.,   121.,   145.,   115.,    63.,    68.,    24.],\n",
       "       [  214.,   221.,   265.,   766.,   959.,  1038.,   226.,  1188.,\n",
       "         1122.,   117.,   458.,  1105.,  1285.,  1017.,   274.,   281.]])"
      ]
     },
     "execution_count": 48,
     "metadata": {},
     "output_type": "execute_result"
    }
   ],
   "source": [
    "input_array\n"
   ]
  },
  {
   "cell_type": "code",
   "execution_count": 61,
   "metadata": {
    "collapsed": false
   },
   "outputs": [],
   "source": [
    "min = np.amin(input_array, 1)\n",
    "max = np.amax(input_array, 1)"
   ]
  },
  {
   "cell_type": "code",
   "execution_count": 63,
   "metadata": {
    "collapsed": false
   },
   "outputs": [
    {
     "data": {
      "text/plain": [
       "36174.0"
      ]
     },
     "execution_count": 63,
     "metadata": {},
     "output_type": "execute_result"
    }
   ],
   "source": [
    "sum(max - min)"
   ]
  },
  {
   "cell_type": "code",
   "execution_count": 64,
   "metadata": {
    "collapsed": true
   },
   "outputs": [],
   "source": [
    "def checks(array_i):\n",
    "    min = np.amin(array_i, 1)\n",
    "    max = np.amax(array_i, 1)\n",
    "    return sum(max - min)"
   ]
  },
  {
   "cell_type": "code",
   "execution_count": 67,
   "metadata": {
    "collapsed": false
   },
   "outputs": [],
   "source": [
    "test = np.array([[5, 1, 9, 5], [7, 5, 3, 3], [2, 4, 6, 8]])\n"
   ]
  },
  {
   "cell_type": "code",
   "execution_count": 70,
   "metadata": {
    "collapsed": false
   },
   "outputs": [
    {
     "data": {
      "text/plain": [
       "36174.0"
      ]
     },
     "execution_count": 70,
     "metadata": {},
     "output_type": "execute_result"
    }
   ],
   "source": [
    "checks(input_array)"
   ]
  },
  {
   "cell_type": "code",
   "execution_count": 122,
   "metadata": {
    "collapsed": false
   },
   "outputs": [],
   "source": [
    "def dividemin(vector):\n",
    "    m = np.argmin(vector)\n",
    "    modules = np.delete(vector, m) % vector[m]\n",
    "    if np.any(modules == 0):\n",
    "        print(\"one\")\n",
    "        return vector[m], np.delete(vector, m)[np.argwhere(modules == 0)]\n",
    "    else:\n",
    "        print(\"two\")\n",
    "        dividemin(np.delete(vector,m))"
   ]
  },
  {
   "cell_type": "code",
   "execution_count": 126,
   "metadata": {
    "collapsed": false
   },
   "outputs": [
    {
     "name": "stdout",
     "output_type": "stream",
     "text": [
      "0\n",
      "[1 0]\n",
      "True\n"
     ]
    }
   ],
   "source": [
    "vector = np.array([2, 5, 10])\n",
    "m = np.argmin(vector)\n",
    "print(m)\n",
    "modules = np.delete(vector, m) % vector[m]\n",
    "print(modules)\n",
    "print(np.any(modules == 0))"
   ]
  },
  {
   "cell_type": "code",
   "execution_count": 98,
   "metadata": {
    "collapsed": true
   },
   "outputs": [],
   "source": [
    "m = np.argmin(vector)"
   ]
  },
  {
   "cell_type": "code",
   "execution_count": 102,
   "metadata": {
    "collapsed": false
   },
   "outputs": [
    {
     "data": {
      "text/plain": [
       "array([False,  True], dtype=bool)"
      ]
     },
     "execution_count": 102,
     "metadata": {},
     "output_type": "execute_result"
    }
   ],
   "source": [
    "np.delete(vector, m) % vector[m] == 0"
   ]
  },
  {
   "cell_type": "code",
   "execution_count": 92,
   "metadata": {
    "collapsed": false
   },
   "outputs": [],
   "source": [
    " modules = vector % m "
   ]
  },
  {
   "cell_type": "code",
   "execution_count": 129,
   "metadata": {
    "collapsed": false
   },
   "outputs": [
    {
     "name": "stdout",
     "output_type": "stream",
     "text": [
      "one\n"
     ]
    }
   ],
   "source": [
    "a=dividemin(vector)"
   ]
  },
  {
   "cell_type": "code",
   "execution_count": 130,
   "metadata": {
    "collapsed": false
   },
   "outputs": [
    {
     "name": "stdout",
     "output_type": "stream",
     "text": [
      "(2, array([[10]]))\n"
     ]
    }
   ],
   "source": [
    "print(a)"
   ]
  },
  {
   "cell_type": "code",
   "execution_count": null,
   "metadata": {
    "collapsed": true
   },
   "outputs": [],
   "source": []
  }
 ],
 "metadata": {
  "kernelspec": {
   "display_name": "Python 3",
   "language": "python",
   "name": "python3"
  },
  "language_info": {
   "codemirror_mode": {
    "name": "ipython",
    "version": 3
   },
   "file_extension": ".py",
   "mimetype": "text/x-python",
   "name": "python",
   "nbconvert_exporter": "python",
   "pygments_lexer": "ipython3",
   "version": "3.4.5"
  }
 },
 "nbformat": 4,
 "nbformat_minor": 0
}
