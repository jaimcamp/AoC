{
 "cells": [
  {
   "cell_type": "code",
   "execution_count": 10,
   "metadata": {},
   "outputs": [],
   "source": [
    "# Python 3.x Utility Functions\n",
    "# From https://github.com/norvig/pytudes/blob/master/ipynb/Advent 2017.ipynb\n",
    "\n",
    "import re\n",
    "import numpy as np\n",
    "import math\n",
    "import random\n",
    "import urllib.request\n",
    "\n",
    "from collections import Counter, defaultdict, namedtuple, deque, abc, OrderedDict\n",
    "from functools   import lru_cache, reduce\n",
    "from itertools   import (permutations, combinations, chain, cycle, product, islice, \n",
    "                         takewhile, zip_longest, count as count_from)\n",
    "from heapq       import heappop, heappush\n",
    "\n",
    "identity = lambda x: x\n",
    "letters  = 'abcdefghijklmnopqrstuvwxyz'\n",
    "\n",
    "cat = ''.join\n",
    "\n",
    "Ø   = frozenset() # Empty set\n",
    "inf = float('inf')\n",
    "BIG = 10 ** 999"
   ]
  },
  {
   "cell_type": "code",
   "execution_count": 11,
   "metadata": {},
   "outputs": [],
   "source": [
    "#Part01"
   ]
  },
  {
   "cell_type": "code",
   "execution_count": 12,
   "metadata": {},
   "outputs": [],
   "source": [
    "#Read data:"
   ]
  },
  {
   "cell_type": "code",
   "execution_count": 107,
   "metadata": {},
   "outputs": [],
   "source": [
    "#Parse function\n",
    "def parse_move(dancers, move):\n",
    "    if len(move) < 1:\n",
    "        raise ValueError(\"No move given\")\n",
    "    verb = move[0]\n",
    "    noun = move[1:]\n",
    "    if verb in ['x', 'p']:\n",
    "        noun = [x.strip() for x in noun.split('/')]\n",
    "    if verb == 's':\n",
    "        s(dancers, noun)\n",
    "    elif verb == 'x':\n",
    "        x(dancers, noun)\n",
    "    elif verb == 'p':\n",
    "        p(dancers, noun)\n",
    "    return 1\n",
    "        "
   ]
  },
  {
   "cell_type": "code",
   "execution_count": 108,
   "metadata": {},
   "outputs": [],
   "source": [
    "# Define dance moves:\n",
    "def s(dancers, noun):\n",
    "    noun = int(noun)\n",
    "    np.copyto(dancers, np.concatenate([dancers[-noun:] , dancers[:-noun]]))\n",
    "    return 1\n",
    "def x(dancers, noun):\n",
    "    noun = [int(x) for x in noun]\n",
    "    dancers[noun[0]], dancers[noun[1]] = dancers[noun[1]], dancers[noun[0]]\n",
    "    return 1\n",
    "def p(dancers, noun):\n",
    "    pos_a = np.where(dancers == noun[0])\n",
    "    pos_b = np.where(dancers == noun[1])\n",
    "    dancers[pos_a], dancers[pos_b] = dancers[pos_b], dancers[pos_a]\n",
    "    return 1"
   ]
  },
  {
   "cell_type": "code",
   "execution_count": 104,
   "metadata": {},
   "outputs": [],
   "source": [
    "dancers = np.array(list(letters[:16]))\n"
   ]
  },
  {
   "cell_type": "code",
   "execution_count": 99,
   "metadata": {},
   "outputs": [
    {
     "data": {
      "text/plain": [
       "1"
      ]
     },
     "execution_count": 99,
     "metadata": {},
     "output_type": "execute_result"
    }
   ],
   "source": [
    "S(dancers, 2)"
   ]
  },
  {
   "cell_type": "code",
   "execution_count": 100,
   "metadata": {},
   "outputs": [
    {
     "data": {
      "text/plain": [
       "1"
      ]
     },
     "execution_count": 100,
     "metadata": {},
     "output_type": "execute_result"
    }
   ],
   "source": [
    "x(dancers, set(['1', '2']))"
   ]
  },
  {
   "cell_type": "code",
   "execution_count": 105,
   "metadata": {},
   "outputs": [],
   "source": [
    "p(dancers, ['o', 'c'])"
   ]
  },
  {
   "cell_type": "code",
   "execution_count": 106,
   "metadata": {},
   "outputs": [
    {
     "data": {
      "text/plain": [
       "array(['a', 'b', 'o', 'd', 'e', 'f', 'g', 'h', 'i', 'j', 'k', 'l', 'm',\n",
       "       'n', 'c', 'p'],\n",
       "      dtype='<U1')"
      ]
     },
     "execution_count": 106,
     "metadata": {},
     "output_type": "execute_result"
    }
   ],
   "source": [
    "dancers"
   ]
  },
  {
   "cell_type": "code",
   "execution_count": 111,
   "metadata": {},
   "outputs": [
    {
     "data": {
      "text/plain": [
       "1"
      ]
     },
     "execution_count": 111,
     "metadata": {},
     "output_type": "execute_result"
    }
   ],
   "source": [
    "#Example:\n",
    "dancers_ex = np.array(list(letters[:5]))\n",
    "parse_move(dancers_ex, 's1')\n",
    "parse_move(dancers_ex, 'x3/4')\n",
    "parse_move(dancers_ex, 'pe/b')"
   ]
  },
  {
   "cell_type": "code",
   "execution_count": 112,
   "metadata": {},
   "outputs": [
    {
     "data": {
      "text/plain": [
       "array(['b', 'a', 'e', 'd', 'c'],\n",
       "      dtype='<U1')"
      ]
     },
     "execution_count": 112,
     "metadata": {},
     "output_type": "execute_result"
    }
   ],
   "source": [
    "dancers_ex"
   ]
  },
  {
   "cell_type": "code",
   "execution_count": 239,
   "metadata": {},
   "outputs": [],
   "source": [
    "# Real\n",
    "dancers = np.array(list(letters[:16]))\n",
    "instrucctions = open('input.txt').readline().split(',')\n",
    "#list(parse_move(dancers, inst) for inst in instrucctions)\n",
    "for inst in instrucctions:\n",
    "    parse_move(dancers, inst)"
   ]
  },
  {
   "cell_type": "code",
   "execution_count": 240,
   "metadata": {},
   "outputs": [],
   "source": [
    "new_d = ''.join(dancers)"
   ]
  },
  {
   "cell_type": "code",
   "execution_count": 241,
   "metadata": {},
   "outputs": [
    {
     "data": {
      "text/plain": [
       "1000"
      ]
     },
     "execution_count": 241,
     "metadata": {},
     "output_type": "execute_result"
    }
   ],
   "source": [
    "int(10e2)"
   ]
  },
  {
   "cell_type": "code",
   "execution_count": 242,
   "metadata": {},
   "outputs": [
    {
     "name": "stdout",
     "output_type": "stream",
     "text": [
      "['l' 'b' 'd' 'i' 'o' 'm' 'k' 'h' 'g' 'c' 'j' 'a' 'n' 'e' 'f' 'p']\n",
      "56\n"
     ]
    }
   ],
   "source": [
    "original = np.copy(dancers)\n",
    "moves = []\n",
    "i = 0\n",
    "while True:\n",
    "    moves.append(np.copy(dancers))\n",
    "    for inst in instrucctions:\n",
    "        parse_move(dancers, inst)\n",
    "    i += 1\n",
    "    if np.array_equal(dancers, original):\n",
    "        break\n",
    "        \n",
    "print(dancers)\n",
    "print(i)"
   ]
  },
  {
   "cell_type": "code",
   "execution_count": 243,
   "metadata": {},
   "outputs": [
    {
     "data": {
      "text/plain": [
       "[array(['l', 'b', 'd', 'i', 'o', 'm', 'k', 'h', 'g', 'c', 'j', 'a', 'n',\n",
       "        'e', 'f', 'p'],\n",
       "       dtype='<U1'),\n",
       " array(['k', 'a', 'b', 'o', 'i', 'l', 'h', 'n', 'g', 'c', 'm', 'f', 'j',\n",
       "        'e', 'p', 'd'],\n",
       "       dtype='<U1'),\n",
       " array(['k', 'a', 'n', 'p', 'h', 'f', 'e', 'd', 'm', 'o', 'c', 'l', 'j',\n",
       "        'b', 'g', 'i'],\n",
       "       dtype='<U1'),\n",
       " array(['d', 'c', 'n', 'i', 'h', 'g', 'a', 'j', 'l', 'o', 'b', 'e', 'f',\n",
       "        'm', 'k', 'p'],\n",
       "       dtype='<U1'),\n",
       " array(['i', 'd', 'p', 'a', 'm', 'l', 'o', 'c', 'g', 'j', 'b', 'e', 'f',\n",
       "        'n', 'h', 'k'],\n",
       "       dtype='<U1'),\n",
       " array(['k', 'b', 'p', 'a', 'l', 'o', 'f', 'c', 'h', 'm', 'g', 'd', 'n',\n",
       "        'j', 'e', 'i'],\n",
       "       dtype='<U1'),\n",
       " array(['e', 'n', 'b', 'm', 'h', 'o', 'p', 'k', 'l', 'c', 'g', 'i', 'd',\n",
       "        'j', 'a', 'f'],\n",
       "       dtype='<U1'),\n",
       " array(['i', 'n', 'm', 'l', 'a', 'd', 'g', 'k', 'p', 'b', 'c', 'e', 'j',\n",
       "        'h', 'o', 'f'],\n",
       "       dtype='<U1'),\n",
       " array(['g', 'e', 'n', 'a', 'l', 'i', 'k', 'j', 'p', 'b', 'd', 'o', 'c',\n",
       "        'h', 'f', 'm'],\n",
       "       dtype='<U1'),\n",
       " array(['g', 'e', 'j', 'f', 'k', 'o', 'h', 'm', 'd', 'a', 'b', 'i', 'c',\n",
       "        'n', 'p', 'l'],\n",
       "       dtype='<U1'),\n",
       " array(['m', 'b', 'j', 'l', 'k', 'p', 'e', 'c', 'i', 'a', 'n', 'h', 'o',\n",
       "        'd', 'g', 'f'],\n",
       "       dtype='<U1'),\n",
       " array(['l', 'm', 'f', 'e', 'd', 'i', 'a', 'b', 'p', 'c', 'n', 'h', 'o',\n",
       "        'j', 'k', 'g'],\n",
       "       dtype='<U1'),\n",
       " array(['g', 'n', 'f', 'e', 'i', 'a', 'o', 'b', 'k', 'd', 'p', 'm', 'j',\n",
       "        'c', 'h', 'l'],\n",
       "       dtype='<U1'),\n",
       " array(['h', 'j', 'n', 'd', 'k', 'a', 'f', 'g', 'i', 'b', 'p', 'l', 'm',\n",
       "        'c', 'e', 'o'],\n",
       "       dtype='<U1'),\n",
       " array(['l', 'j', 'd', 'i', 'e', 'm', 'p', 'g', 'f', 'n', 'b', 'h', 'c',\n",
       "        'k', 'a', 'o'],\n",
       "       dtype='<U1'),\n",
       " array(['p', 'h', 'j', 'e', 'i', 'l', 'g', 'c', 'f', 'n', 'm', 'a', 'b',\n",
       "        'k', 'o', 'd'],\n",
       "       dtype='<U1'),\n",
       " array(['p', 'h', 'c', 'o', 'g', 'a', 'k', 'd', 'm', 'e', 'n', 'l', 'b',\n",
       "        'j', 'f', 'i'],\n",
       "       dtype='<U1'),\n",
       " array(['d', 'n', 'c', 'i', 'g', 'f', 'h', 'b', 'l', 'e', 'j', 'k', 'a',\n",
       "        'm', 'p', 'o'],\n",
       "       dtype='<U1'),\n",
       " array(['i', 'd', 'o', 'h', 'm', 'l', 'e', 'n', 'f', 'b', 'j', 'k', 'a',\n",
       "        'c', 'g', 'p'],\n",
       "       dtype='<U1'),\n",
       " array(['p', 'j', 'o', 'h', 'l', 'e', 'a', 'n', 'g', 'm', 'f', 'd', 'c',\n",
       "        'b', 'k', 'i'],\n",
       "       dtype='<U1'),\n",
       " array(['k', 'c', 'j', 'm', 'g', 'e', 'o', 'p', 'l', 'n', 'f', 'i', 'd',\n",
       "        'b', 'h', 'a'],\n",
       "       dtype='<U1'),\n",
       " array(['i', 'c', 'm', 'l', 'h', 'd', 'f', 'p', 'o', 'j', 'n', 'k', 'b',\n",
       "        'g', 'e', 'a'],\n",
       "       dtype='<U1'),\n",
       " array(['f', 'k', 'c', 'h', 'l', 'i', 'p', 'b', 'o', 'j', 'd', 'e', 'n',\n",
       "        'g', 'a', 'm'],\n",
       "       dtype='<U1'),\n",
       " array(['f', 'k', 'b', 'a', 'p', 'e', 'g', 'm', 'd', 'h', 'j', 'i', 'n',\n",
       "        'c', 'o', 'l'],\n",
       "       dtype='<U1'),\n",
       " array(['m', 'j', 'b', 'l', 'p', 'o', 'k', 'n', 'i', 'h', 'c', 'g', 'e',\n",
       "        'd', 'f', 'a'],\n",
       "       dtype='<U1'),\n",
       " array(['l', 'm', 'a', 'k', 'd', 'i', 'h', 'j', 'o', 'n', 'c', 'g', 'e',\n",
       "        'b', 'p', 'f'],\n",
       "       dtype='<U1'),\n",
       " array(['f', 'c', 'a', 'k', 'i', 'h', 'e', 'j', 'p', 'd', 'o', 'm', 'b',\n",
       "        'n', 'g', 'l'],\n",
       "       dtype='<U1'),\n",
       " array(['g', 'b', 'c', 'd', 'p', 'h', 'a', 'f', 'i', 'j', 'o', 'l', 'm',\n",
       "        'n', 'k', 'e'],\n",
       "       dtype='<U1'),\n",
       " array(['l', 'b', 'd', 'i', 'k', 'm', 'o', 'f', 'a', 'c', 'j', 'g', 'n',\n",
       "        'p', 'h', 'e'],\n",
       "       dtype='<U1'),\n",
       " array(['o', 'g', 'b', 'k', 'i', 'l', 'f', 'n', 'a', 'c', 'm', 'h', 'j',\n",
       "        'p', 'e', 'd'],\n",
       "       dtype='<U1'),\n",
       " array(['o', 'g', 'n', 'e', 'f', 'h', 'p', 'd', 'm', 'k', 'c', 'l', 'j',\n",
       "        'b', 'a', 'i'],\n",
       "       dtype='<U1'),\n",
       " array(['d', 'c', 'n', 'i', 'f', 'a', 'g', 'j', 'l', 'k', 'b', 'p', 'h',\n",
       "        'm', 'o', 'e'],\n",
       "       dtype='<U1'),\n",
       " array(['i', 'd', 'e', 'g', 'm', 'l', 'k', 'c', 'a', 'j', 'b', 'p', 'h',\n",
       "        'n', 'f', 'o'],\n",
       "       dtype='<U1'),\n",
       " array(['o', 'b', 'e', 'g', 'l', 'k', 'h', 'c', 'f', 'm', 'a', 'd', 'n',\n",
       "        'j', 'p', 'i'],\n",
       "       dtype='<U1'),\n",
       " array(['p', 'n', 'b', 'm', 'f', 'k', 'e', 'o', 'l', 'c', 'a', 'i', 'd',\n",
       "        'j', 'g', 'h'],\n",
       "       dtype='<U1'),\n",
       " array(['i', 'n', 'm', 'l', 'g', 'd', 'a', 'o', 'e', 'b', 'c', 'p', 'j',\n",
       "        'f', 'k', 'h'],\n",
       "       dtype='<U1'),\n",
       " array(['a', 'p', 'n', 'g', 'l', 'i', 'o', 'j', 'e', 'b', 'd', 'k', 'c',\n",
       "        'f', 'h', 'm'],\n",
       "       dtype='<U1'),\n",
       " array(['a', 'p', 'j', 'h', 'o', 'k', 'f', 'm', 'd', 'g', 'b', 'i', 'c',\n",
       "        'n', 'e', 'l'],\n",
       "       dtype='<U1'),\n",
       " array(['m', 'b', 'j', 'l', 'o', 'e', 'p', 'c', 'i', 'g', 'n', 'f', 'k',\n",
       "        'd', 'a', 'h'],\n",
       "       dtype='<U1'),\n",
       " array(['l', 'm', 'h', 'p', 'd', 'i', 'g', 'b', 'e', 'c', 'n', 'f', 'k',\n",
       "        'j', 'o', 'a'],\n",
       "       dtype='<U1'),\n",
       " array(['a', 'n', 'h', 'p', 'i', 'g', 'k', 'b', 'o', 'd', 'e', 'm', 'j',\n",
       "        'c', 'f', 'l'],\n",
       "       dtype='<U1'),\n",
       " array(['f', 'j', 'n', 'd', 'o', 'g', 'h', 'a', 'i', 'b', 'e', 'l', 'm',\n",
       "        'c', 'p', 'k'],\n",
       "       dtype='<U1'),\n",
       " array(['l', 'j', 'd', 'i', 'p', 'm', 'e', 'a', 'h', 'n', 'b', 'f', 'c',\n",
       "        'o', 'g', 'k'],\n",
       "       dtype='<U1'),\n",
       " array(['e', 'f', 'j', 'p', 'i', 'l', 'a', 'c', 'h', 'n', 'm', 'g', 'b',\n",
       "        'o', 'k', 'd'],\n",
       "       dtype='<U1'),\n",
       " array(['e', 'f', 'c', 'k', 'a', 'g', 'o', 'd', 'm', 'p', 'n', 'l', 'b',\n",
       "        'j', 'h', 'i'],\n",
       "       dtype='<U1'),\n",
       " array(['d', 'n', 'c', 'i', 'a', 'h', 'f', 'b', 'l', 'p', 'j', 'o', 'g',\n",
       "        'm', 'e', 'k'],\n",
       "       dtype='<U1'),\n",
       " array(['i', 'd', 'k', 'f', 'm', 'l', 'p', 'n', 'h', 'b', 'j', 'o', 'g',\n",
       "        'c', 'a', 'e'],\n",
       "       dtype='<U1'),\n",
       " array(['e', 'j', 'k', 'f', 'l', 'p', 'g', 'n', 'a', 'm', 'h', 'd', 'c',\n",
       "        'b', 'o', 'i'],\n",
       "       dtype='<U1'),\n",
       " array(['o', 'c', 'j', 'm', 'a', 'p', 'k', 'e', 'l', 'n', 'h', 'i', 'd',\n",
       "        'b', 'f', 'g'],\n",
       "       dtype='<U1'),\n",
       " array(['i', 'c', 'm', 'l', 'f', 'd', 'h', 'e', 'k', 'j', 'n', 'o', 'b',\n",
       "        'a', 'p', 'g'],\n",
       "       dtype='<U1'),\n",
       " array(['h', 'o', 'c', 'f', 'l', 'i', 'e', 'b', 'k', 'j', 'd', 'p', 'n',\n",
       "        'a', 'g', 'm'],\n",
       "       dtype='<U1'),\n",
       " array(['h', 'o', 'b', 'g', 'e', 'p', 'a', 'm', 'd', 'f', 'j', 'i', 'n',\n",
       "        'c', 'k', 'l'],\n",
       "       dtype='<U1'),\n",
       " array(['m', 'j', 'b', 'l', 'e', 'k', 'o', 'n', 'i', 'f', 'c', 'a', 'p',\n",
       "        'd', 'h', 'g'],\n",
       "       dtype='<U1'),\n",
       " array(['l', 'm', 'g', 'o', 'd', 'i', 'f', 'j', 'k', 'n', 'c', 'a', 'p',\n",
       "        'b', 'e', 'h'],\n",
       "       dtype='<U1'),\n",
       " array(['h', 'c', 'g', 'o', 'i', 'f', 'p', 'j', 'e', 'd', 'k', 'm', 'b',\n",
       "        'n', 'a', 'l'],\n",
       "       dtype='<U1'),\n",
       " array(['a', 'b', 'c', 'd', 'e', 'f', 'g', 'h', 'i', 'j', 'k', 'l', 'm',\n",
       "        'n', 'o', 'p'],\n",
       "       dtype='<U1')]"
      ]
     },
     "execution_count": 243,
     "metadata": {},
     "output_type": "execute_result"
    }
   ],
   "source": [
    "moves"
   ]
  },
  {
   "cell_type": "code",
   "execution_count": 252,
   "metadata": {},
   "outputs": [
    {
     "data": {
      "text/plain": [
       "'ejkflpgnamhdcboi'"
      ]
     },
     "execution_count": 252,
     "metadata": {},
     "output_type": "execute_result"
    }
   ],
   "source": [
    "''.join(moves[47])"
   ]
  },
  {
   "cell_type": "code",
   "execution_count": 253,
   "metadata": {},
   "outputs": [
    {
     "data": {
      "text/plain": [
       "48.0"
      ]
     },
     "execution_count": 253,
     "metadata": {},
     "output_type": "execute_result"
    }
   ],
   "source": [
    "1e9 % 56"
   ]
  }
 ],
 "metadata": {
  "kernelspec": {
   "display_name": "Python 3",
   "language": "python",
   "name": "python3"
  },
  "language_info": {
   "codemirror_mode": {
    "name": "ipython",
    "version": 3
   },
   "file_extension": ".py",
   "mimetype": "text/x-python",
   "name": "python",
   "nbconvert_exporter": "python",
   "pygments_lexer": "ipython3",
   "version": "3.6.3"
  }
 },
 "nbformat": 4,
 "nbformat_minor": 2
}
