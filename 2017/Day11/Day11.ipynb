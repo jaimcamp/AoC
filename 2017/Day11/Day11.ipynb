{
 "cells": [
  {
   "cell_type": "code",
   "execution_count": 1,
   "metadata": {},
   "outputs": [],
   "source": [
    "# Python 3.x Utility Functions\n",
    "# From https://github.com/norvig/pytudes/blob/master/ipynb/Advent 2017.ipynb\n",
    "\n",
    "import re\n",
    "import numpy as np\n",
    "import math\n",
    "import random\n",
    "import urllib.request\n",
    "\n",
    "from collections import Counter, defaultdict, namedtuple, deque, abc, OrderedDict\n",
    "from functools   import lru_cache\n",
    "from itertools   import (permutations, combinations, chain, cycle, product, islice, \n",
    "                         takewhile, zip_longest, count as count_from)\n",
    "from heapq       import heappop, heappush\n",
    "\n",
    "identity = lambda x: x\n",
    "letters  = 'abcdefghijklmnopqrstuvwxyz'\n",
    "\n",
    "cat = ''.join\n",
    "\n",
    "Ø   = frozenset() # Empty set\n",
    "inf = float('inf')\n",
    "BIG = 10 ** 999"
   ]
  },
  {
   "cell_type": "code",
   "execution_count": 2,
   "metadata": {},
   "outputs": [],
   "source": [
    "#Part 01"
   ]
  },
  {
   "cell_type": "code",
   "execution_count": 122,
   "metadata": {},
   "outputs": [],
   "source": [
    "with open('input') as f:\n",
    "    inp = f.readline().rstrip('\\n').split(',')"
   ]
  },
  {
   "cell_type": "code",
   "execution_count": 123,
   "metadata": {},
   "outputs": [],
   "source": [
    "inp_d = Counter(inp)"
   ]
  },
  {
   "cell_type": "code",
   "execution_count": 124,
   "metadata": {},
   "outputs": [
    {
     "name": "stdout",
     "output_type": "stream",
     "text": [
      "Counter({'ne': 1668, 'n': 1479, 'nw': 1396, 'sw': 1326, 'se': 1297, 's': 1057})\n"
     ]
    }
   ],
   "source": [
    "print(inp_d)"
   ]
  },
  {
   "cell_type": "code",
   "execution_count": 125,
   "metadata": {},
   "outputs": [],
   "source": [
    "changes = {('n', 's'): 0,('nw', 'se'): 0, ('ne', 'sw'): 0 , ('n', 'sw'): 'nw', ('n', 'se'): 'ne',\n",
    "          ('ne', 's'): 'se', ('nw', 's'): 'sw', ('se', 'sw'): 's', ('ne', 'nw'): 'n'}"
   ]
  },
  {
   "cell_type": "code",
   "execution_count": 126,
   "metadata": {},
   "outputs": [
    {
     "data": {
      "text/plain": [
       "{('n', 's'): 0,\n",
       " ('n', 'se'): 'ne',\n",
       " ('n', 'sw'): 'nw',\n",
       " ('ne', 'nw'): 'n',\n",
       " ('ne', 's'): 'se',\n",
       " ('ne', 'sw'): 0,\n",
       " ('nw', 's'): 'sw',\n",
       " ('nw', 'se'): 0,\n",
       " ('se', 'sw'): 's'}"
      ]
     },
     "execution_count": 126,
     "metadata": {},
     "output_type": "execute_result"
    }
   ],
   "source": [
    "changes"
   ]
  },
  {
   "cell_type": "code",
   "execution_count": 127,
   "metadata": {},
   "outputs": [],
   "source": [
    "total = 0\n",
    "while sum(inp_d.values()) > total:\n",
    "    total = sum(inp_d.values())\n",
    "    for x, y in changes:\n",
    "        m = min(inp_d[x], inp_d[y])\n",
    "        #Delete m from x and y and add it to value\n",
    "        inp_d[x] = inp_d[x] - m\n",
    "        inp_d[y] = inp_d[y] - m\n",
    "        if changes[(x, y)] != 0:\n",
    "            inp_d[changes[(x, y)]] = inp_d[changes[(x, y)]] + m\n",
    "    \n",
    "    break"
   ]
  },
  {
   "cell_type": "code",
   "execution_count": 128,
   "metadata": {},
   "outputs": [
    {
     "data": {
      "text/plain": [
       "764"
      ]
     },
     "execution_count": 128,
     "metadata": {},
     "output_type": "execute_result"
    }
   ],
   "source": [
    "sum(inp_d.values())"
   ]
  },
  {
   "cell_type": "code",
   "execution_count": 129,
   "metadata": {},
   "outputs": [
    {
     "data": {
      "text/plain": [
       "Counter({'n': 521, 'ne': 243, 'nw': 0, 's': 0, 'se': 0, 'sw': 0})"
      ]
     },
     "execution_count": 129,
     "metadata": {},
     "output_type": "execute_result"
    }
   ],
   "source": [
    "inp_d"
   ]
  },
  {
   "cell_type": "code",
   "execution_count": 134,
   "metadata": {},
   "outputs": [],
   "source": [
    "#Part2"
   ]
  },
  {
   "cell_type": "code",
   "execution_count": 142,
   "metadata": {},
   "outputs": [],
   "source": [
    "with open('input') as f:\n",
    "    inp = f.readline().rstrip('\\n').split(',')\n",
    "max_dist = 0\n",
    "\n",
    "for x in range(len(inp)):\n",
    "    tmp = inp[0 : x]\n",
    "\n",
    "    inp_d = Counter(tmp)\n",
    "    changes = {('n', 's'): 0,('nw', 'se'): 0, ('ne', 'sw'): 0 , ('n', 'sw'): 'nw', ('n', 'se'): 'ne',\n",
    "               ('ne', 's'): 'se', ('nw', 's'): 'sw', ('se', 'sw'): 's', ('ne', 'nw'): 'n'}\n",
    "\n",
    "    total = 0\n",
    "    while sum(inp_d.values()) > total:\n",
    "        total = sum(inp_d.values())\n",
    "        for x, y in changes:\n",
    "            m = min(inp_d[x], inp_d[y])\n",
    "            #Delete m from x and y and add it to value\n",
    "            inp_d[x] = inp_d[x] - m\n",
    "            inp_d[y] = inp_d[y] - m\n",
    "            if changes[(x, y)] != 0:\n",
    "                inp_d[changes[(x, y)]] = inp_d[changes[(x, y)]] + m\n",
    "    max_dist = sum(inp_d.values()) if max_dist < sum(inp_d.values()) else max_dist\n"
   ]
  },
  {
   "cell_type": "code",
   "execution_count": 143,
   "metadata": {},
   "outputs": [
    {
     "data": {
      "text/plain": [
       "1532"
      ]
     },
     "execution_count": 143,
     "metadata": {},
     "output_type": "execute_result"
    }
   ],
   "source": [
    "max_dist"
   ]
  }
 ],
 "metadata": {
  "kernelspec": {
   "display_name": "Python 3",
   "language": "python",
   "name": "python3"
  },
  "language_info": {
   "codemirror_mode": {
    "name": "ipython",
    "version": 3
   },
   "file_extension": ".py",
   "mimetype": "text/x-python",
   "name": "python",
   "nbconvert_exporter": "python",
   "pygments_lexer": "ipython3",
   "version": "3.6.3"
  }
 },
 "nbformat": 4,
 "nbformat_minor": 2
}
