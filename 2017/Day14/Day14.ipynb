{
 "cells": [
  {
   "cell_type": "code",
   "execution_count": 13,
   "metadata": {},
   "outputs": [],
   "source": [
    "# Python 3.x Utility Functions\n",
    "# From https://github.com/norvig/pytudes/blob/master/ipynb/Advent 2017.ipynb\n",
    "\n",
    "import re\n",
    "import numpy as np\n",
    "import math\n",
    "import random\n",
    "import urllib.request\n",
    "\n",
    "from collections import Counter, defaultdict, namedtuple, deque, abc, OrderedDict\n",
    "from functools   import lru_cache, reduce\n",
    "from itertools   import (permutations, combinations, chain, cycle, product, islice, \n",
    "                         takewhile, zip_longest, count as count_from)\n",
    "from heapq       import heappop, heappush\n",
    "\n",
    "identity = lambda x: x\n",
    "letters  = 'abcdefghijklmnopqrstuvwxyz'\n",
    "\n",
    "cat = ''.join\n",
    "\n",
    "Ø   = frozenset() # Empty set\n",
    "inf = float('inf')\n",
    "BIG = 10 ** 999"
   ]
  },
  {
   "cell_type": "code",
   "execution_count": 14,
   "metadata": {},
   "outputs": [],
   "source": [
    "#Part01"
   ]
  },
  {
   "cell_type": "code",
   "execution_count": 96,
   "metadata": {},
   "outputs": [],
   "source": [
    "def hash_aoc(to_hash, suffix = ''):\n",
    "    to_hash_b = [ord(x) for x in ''.join([to_hash, suffix])] + [17, 31, 73, 47, 23] #[ord(x) for x in suffix]\n",
    "    list_256 = np.arange(256)\n",
    "    current_position = 0\n",
    "    skip_size = 0\n",
    "    l = len(list_256)\n",
    "    for i in range(64):\n",
    "        for x in to_hash_b:\n",
    "            ix_totake = np.arange(current_position, current_position + x)\n",
    "            ix_totake = ix_totake % l\n",
    "            to_change = list_256[ix_totake]\n",
    "            list_256[ix_totake] = np.flipud(to_change)\n",
    "            current_position += x + skip_size\n",
    "            skip_size += 1\n",
    "    dense_h = []\n",
    "    for dh in range(0, 256, 16):\n",
    "        dense_h.append(reduce(lambda x, y: x ^ y, list_256[dh:dh+16]))\n",
    "    return cat(['{:x}'.format(it).zfill(2) for it in dense_h])\n",
    "    \n",
    "\n",
    "    "
   ]
  },
  {
   "cell_type": "code",
   "execution_count": 97,
   "metadata": {},
   "outputs": [
    {
     "data": {
      "text/plain": [
       "32"
      ]
     },
     "execution_count": 97,
     "metadata": {},
     "output_type": "execute_result"
    }
   ],
   "source": [
    "len(hash_aoc(\"asdads\", ''))"
   ]
  },
  {
   "cell_type": "code",
   "execution_count": 113,
   "metadata": {},
   "outputs": [
    {
     "data": {
      "text/plain": [
       "'11111001101010111000010000001110001000001110101000010100100101110110100110011001110111011100110000110110001100011111011010000001'"
      ]
     },
     "execution_count": 113,
     "metadata": {},
     "output_type": "execute_result"
    }
   ],
   "source": [
    "''.join(to_binary(hash_aoc('a0c201s7')))"
   ]
  },
  {
   "cell_type": "code",
   "execution_count": 115,
   "metadata": {},
   "outputs": [],
   "source": [
    "def to_binary(hex_val):\n",
    "    return [bin(int(x, 16))[2:].zfill(4) for x in hex_val]\n",
    "#bin(int(hex_val, 16))[2:].zfill(4)\n",
    "    \n",
    "    "
   ]
  },
  {
   "cell_type": "code",
   "execution_count": 117,
   "metadata": {},
   "outputs": [
    {
     "name": "stdout",
     "output_type": "stream",
     "text": [
      "8304\n"
     ]
    }
   ],
   "source": [
    "key = 'hwlqcszp'\n",
    "used = 0\n",
    "for nrow in range(128):\n",
    "    namerow = key + \"-\" + str(nrow)\n",
    "    used += sum([int(x) for x in ''.join(to_binary(hash_aoc(namerow))) ])\n",
    "print(used)"
   ]
  },
  {
   "cell_type": "code",
   "execution_count": 63,
   "metadata": {},
   "outputs": [],
   "source": [
    "#Part2"
   ]
  },
  {
   "cell_type": "code",
   "execution_count": 184,
   "metadata": {},
   "outputs": [],
   "source": [
    "#Create numpay array:\n",
    "key = 'hwlqcszp'\n",
    "matrix = np.zeros((128,128))\n",
    "for nrow in range(128):\n",
    "    namerow = key + \"-\" + str(nrow)\n",
    "    matrix[nrow,:] = [int(x) for x in ''.join(to_binary(hash_aoc(namerow))) ]\n"
   ]
  },
  {
   "cell_type": "code",
   "execution_count": 185,
   "metadata": {},
   "outputs": [],
   "source": [
    "matrix = matrix.astype('int')\n",
    "to_clean = np.copy(matrix)"
   ]
  },
  {
   "cell_type": "code",
   "execution_count": 161,
   "metadata": {},
   "outputs": [
    {
     "data": {
      "text/plain": [
       "128"
      ]
     },
     "execution_count": 161,
     "metadata": {},
     "output_type": "execute_result"
    }
   ],
   "source": [
    "len(matrix[:, 0])"
   ]
  },
  {
   "cell_type": "code",
   "execution_count": 146,
   "metadata": {},
   "outputs": [],
   "source": [
    "def floodfill(matrix, x, y, n):\n",
    "    #\"hidden\" stop clause - not reinvoking for \"c\" or \"b\", only for \"a\".\n",
    "    if matrix[x, y] == 1:\n",
    "        matrix[x][y] = n \n",
    "        #recursively invoke flood fill on all surrounding cells:\n",
    "        if x > 0:\n",
    "            floodfill(matrix,x-1,y, n)\n",
    "        if x < 127:\n",
    "            floodfill(matrix,x+1,y, n)\n",
    "        if y > 0:\n",
    "            floodfill(matrix,x,y-1, n)\n",
    "        if y < 127:\n",
    "            floodfill(matrix,x,y+1, n)"
   ]
  },
  {
   "cell_type": "code",
   "execution_count": 148,
   "metadata": {},
   "outputs": [],
   "source": [
    "floodfill(to_clean, 0, 0, 12)"
   ]
  },
  {
   "cell_type": "code",
   "execution_count": null,
   "metadata": {},
   "outputs": [],
   "source": []
  },
  {
   "cell_type": "code",
   "execution_count": 186,
   "metadata": {},
   "outputs": [],
   "source": [
    "val = 2\n",
    "for i in range(128):\n",
    "    for j in range(128):\n",
    "        floodfill(to_clean, i, j, val)\n",
    "        if to_clean[i, j] != 0 :\n",
    "            val += 1\n",
    "        "
   ]
  },
  {
   "cell_type": "code",
   "execution_count": 187,
   "metadata": {},
   "outputs": [
    {
     "data": {
      "text/plain": [
       "1018"
      ]
     },
     "execution_count": 187,
     "metadata": {},
     "output_type": "execute_result"
    }
   ],
   "source": [
    "len(np.unique(to_clean)) - 1"
   ]
  },
  {
   "cell_type": "code",
   "execution_count": 178,
   "metadata": {},
   "outputs": [
    {
     "data": {
      "text/plain": [
       "array([[  2,   2,   0,   4,   0,   5,   0,   0,   6,   6],\n",
       "       [  0,   2,   0,   4,   0,   5,   0,   6,   6,   6],\n",
       "       [  0,   0,   0,   0, 148,   0, 149,   0,   6,   6],\n",
       "       [216,   0,  10,   0, 148, 148,   0, 220,   0,   0],\n",
       "       [  0,  10,  10,   0, 148,   0,   0,   0,   0,   0],\n",
       "       [ 10,  10,   0,   0, 148,   0,   0,  10,  10,  10],\n",
       "       [  0,  10,   0,   0,   0,  10,   0,   0,  10,  10],\n",
       "       [ 10,  10,   0,  10,   0,  10,  10,   0,   0,  10],\n",
       "       [ 10,  10,  10,  10,   0,  10,  10,  10,  10,  10],\n",
       "       [ 10,  10,   0,  10,   0,  10,  10,  10,  10,   0]])"
      ]
     },
     "execution_count": 178,
     "metadata": {},
     "output_type": "execute_result"
    }
   ],
   "source": [
    "to_clean[:10, :10] "
   ]
  },
  {
   "cell_type": "code",
   "execution_count": null,
   "metadata": {},
   "outputs": [],
   "source": []
  }
 ],
 "metadata": {
  "kernelspec": {
   "display_name": "Python 3",
   "language": "python",
   "name": "python3"
  },
  "language_info": {
   "codemirror_mode": {
    "name": "ipython",
    "version": 3
   },
   "file_extension": ".py",
   "mimetype": "text/x-python",
   "name": "python",
   "nbconvert_exporter": "python",
   "pygments_lexer": "ipython3",
   "version": "3.6.3"
  }
 },
 "nbformat": 4,
 "nbformat_minor": 2
}
