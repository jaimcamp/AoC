{
 "cells": [
  {
   "cell_type": "code",
   "execution_count": 1,
   "metadata": {
    "collapsed": true
   },
   "outputs": [],
   "source": [
    "# Python 3.x Utility Functions\n",
    "# From https://github.com/norvig/pytudes/blob/master/ipynb/Advent 2017.ipynb\n",
    "\n",
    "import re\n",
    "import numpy as np\n",
    "import math\n",
    "import random\n",
    "import urllib.request\n",
    "\n",
    "from collections import Counter, defaultdict, namedtuple, deque, abc, OrderedDict\n",
    "from functools   import lru_cache\n",
    "from itertools   import (permutations, combinations, chain, cycle, product, islice, \n",
    "                         takewhile, zip_longest, count as count_from)\n",
    "from heapq       import heappop, heappush\n",
    "\n",
    "identity = lambda x: x\n",
    "letters  = 'abcdefghijklmnopqrstuvwxyz'\n",
    "\n",
    "cat = ''.join\n",
    "\n",
    "Ø   = frozenset() # Empty set\n",
    "inf = float('inf')\n",
    "BIG = 10 ** 999"
   ]
  },
  {
   "cell_type": "code",
   "execution_count": 67,
   "metadata": {
    "collapsed": false
   },
   "outputs": [
    {
     "name": "stdout",
     "output_type": "stream",
     "text": [
      "['pbga', '66']\n",
      "['xhth', '57']\n",
      "['ebii', '61']\n",
      "['havc', '66']\n",
      "['ktlj', '57']\n",
      "['fwft', '72', ['ktlj', 'cntj', 'xhth']]\n",
      "['qoyq', '66']\n",
      "['padx', '45', ['pbga', 'havc', 'qoyq']]\n",
      "['tknk', '41', ['ugml', 'padx', 'fwft']]\n",
      "['jptl', '61']\n",
      "['ugml', '68', ['gyxo', 'ebii', 'jptl']]\n",
      "['gyxo', '61']\n",
      "['cntj', '57']\n"
     ]
    }
   ],
   "source": [
    "#Read example\n",
    "top = []\n",
    "bottom = []\n",
    "weight = {}\n",
    "\n",
    "with open('example.txt') as f:\n",
    "    for line in f:\n",
    "        line = re.sub('\\(|\\)', '', line).split()\n",
    "        if len(line) > 2:\n",
    "            line[2] = [re.sub(',', '', x) for x in line[3:]]\n",
    "            line = line[:3]\n",
    "            bottom.append(line) \n",
    "        else:\n",
    "            top.append(line)\n",
    "            weight[line[0]] = int(line[1])\n",
    "        print(line)\n",
    "        "
   ]
  },
  {
   "cell_type": "code",
   "execution_count": 118,
   "metadata": {
    "collapsed": false
   },
   "outputs": [],
   "source": [
    "import networkx as nx\n",
    "import matplotlib.pyplot as plt"
   ]
  },
  {
   "cell_type": "code",
   "execution_count": 124,
   "metadata": {
    "collapsed": true
   },
   "outputs": [],
   "source": [
    "G = nx.DiGraph()"
   ]
  },
  {
   "cell_type": "code",
   "execution_count": 125,
   "metadata": {
    "collapsed": false
   },
   "outputs": [],
   "source": [
    "G.add_nodes_from([x for x, y in top])\n",
    "G.add_nodes_from([x for x, y, z in bottom])"
   ]
  },
  {
   "cell_type": "code",
   "execution_count": 126,
   "metadata": {
    "collapsed": false
   },
   "outputs": [],
   "source": [
    "edges = list(chain.from_iterable(list(list(product([x], z)) for x,y,z in bottom)))"
   ]
  },
  {
   "cell_type": "code",
   "execution_count": 127,
   "metadata": {
    "collapsed": false
   },
   "outputs": [],
   "source": [
    "G.add_edges_from(edges)"
   ]
  },
  {
   "cell_type": "code",
   "execution_count": 128,
   "metadata": {
    "collapsed": false
   },
   "outputs": [
    {
     "data": {
      "text/plain": [
       "OutEdgeView([('padx', 'havc'), ('padx', 'qoyq'), ('padx', 'pbga'), ('tknk', 'fwft'), ('tknk', 'ugml'), ('tknk', 'padx'), ('fwft', 'ktlj'), ('fwft', 'cntj'), ('fwft', 'xhth'), ('ugml', 'jptl'), ('ugml', 'gyxo'), ('ugml', 'ebii')])"
      ]
     },
     "execution_count": 128,
     "metadata": {},
     "output_type": "execute_result"
    }
   ],
   "source": [
    "G.out_edges()"
   ]
  },
  {
   "cell_type": "code",
   "execution_count": 129,
   "metadata": {
    "collapsed": false
   },
   "outputs": [
    {
     "data": {
      "image/png": "[encoded data removed]",
      "text/plain": [
       "<matplotlib.figure.Figure at 0x7fb9426b7a90>"
      ]
     },
     "metadata": {},
     "output_type": "display_data"
    }
   ],
   "source": [
    "%matplotlib inline\n",
    "import matplotlib.pyplot as plt\n",
    "plt.subplot(121)\n",
    "nx.draw(G, with_labels=True)\n"
   ]
  },
  {
   "cell_type": "code",
   "execution_count": 133,
   "metadata": {
    "collapsed": false
   },
   "outputs": [
    {
     "data": {
      "text/plain": [
       "[('tknk', 0)]"
      ]
     },
     "execution_count": 133,
     "metadata": {},
     "output_type": "execute_result"
    }
   ],
   "source": [
    "[(x, y) for x, y in G.in_degree if y == 0]"
   ]
  },
  {
   "cell_type": "code",
   "execution_count": 135,
   "metadata": {
    "collapsed": false
   },
   "outputs": [],
   "source": [
    "#Read input.txt\n",
    "top = []\n",
    "bottom = []\n",
    "weight = {}\n",
    "\n",
    "with open('input.txt') as f:\n",
    "    for line in f:\n",
    "        line = re.sub('\\(|\\)', '', line).split()\n",
    "        if len(line) > 2:\n",
    "            line[2] = [re.sub(',', '', x) for x in line[3:]]\n",
    "            line = line[:3]\n",
    "            bottom.append(line) \n",
    "        else:\n",
    "            top.append(line)\n",
    "            weight[line[0]] = int(line[1])\n",
    "        \n",
    "        "
   ]
  },
  {
   "cell_type": "code",
   "execution_count": 136,
   "metadata": {
    "collapsed": false
   },
   "outputs": [],
   "source": [
    "G = nx.DiGraph()\n",
    "G.add_nodes_from([x for x, y in top])\n",
    "G.add_nodes_from([x for x, y, z in bottom])\n",
    "edges = list(chain.from_iterable(list(list(product([x], z)) for x,y,z in bottom)))\n",
    "G.add_edges_from(edges)"
   ]
  },
  {
   "cell_type": "code",
   "execution_count": 139,
   "metadata": {
    "collapsed": false
   },
   "outputs": [
    {
     "data": {
      "text/plain": [
       "[('vvsvez', 0)]"
      ]
     },
     "execution_count": 139,
     "metadata": {},
     "output_type": "execute_result"
    }
   ],
   "source": [
    "[(x, y) for x, y in G.in_degree if y == 0]"
   ]
  },
  {
   "cell_type": "markdown",
   "metadata": {},
   "source": [
    "## Part 2"
   ]
  },
  {
   "cell_type": "code",
   "execution_count": 145,
   "metadata": {
    "collapsed": false
   },
   "outputs": [
    {
     "name": "stdout",
     "output_type": "stream",
     "text": [
      "['pbga', '66']\n",
      "['xhth', '57']\n",
      "['ebii', '61']\n",
      "['havc', '66']\n",
      "['ktlj', '57']\n",
      "['fwft', '72', ['ktlj', 'cntj', 'xhth']]\n",
      "['qoyq', '66']\n",
      "['padx', '45', ['pbga', 'havc', 'qoyq']]\n",
      "['tknk', '41', ['ugml', 'padx', 'fwft']]\n",
      "['jptl', '61']\n",
      "['ugml', '68', ['gyxo', 'ebii', 'jptl']]\n",
      "['gyxo', '61']\n",
      "['cntj', '57']\n"
     ]
    }
   ],
   "source": [
    "#Read example\n",
    "top = []\n",
    "bottom = []\n",
    "weight = {}\n",
    "\n",
    "with open('example.txt') as f:\n",
    "    for line in f:\n",
    "        line = re.sub('\\(|\\)', '', line).split()\n",
    "        if len(line) > 2:\n",
    "            line[2] = [re.sub(',', '', x) for x in line[3:]]\n",
    "            line = line[:3]\n",
    "            bottom.append(line) \n",
    "        else:\n",
    "            top.append(line)\n",
    "            weight[line[0]] = int(line[1])\n",
    "        print(line)\n",
    "        \n",
    "G = nx.DiGraph()\n",
    "G.add_nodes_from([x for x, y in top])\n",
    "G.add_nodes_from([x for x, y, z in bottom])\n",
    "edges = list(chain.from_iterable(list(list(product([x], z)) for x,y,z in bottom)))\n",
    "G.add_edges_from(edges)"
   ]
  },
  {
   "cell_type": "code",
   "execution_count": 146,
   "metadata": {
    "collapsed": false
   },
   "outputs": [
    {
     "data": {
      "text/plain": [
       "[('cntj', 0),\n",
       " ('xhth', 0),\n",
       " ('gyxo', 0),\n",
       " ('havc', 0),\n",
       " ('ktlj', 0),\n",
       " ('qoyq', 0),\n",
       " ('pbga', 0),\n",
       " ('ebii', 0),\n",
       " ('jptl', 0)]"
      ]
     },
     "execution_count": 146,
     "metadata": {},
     "output_type": "execute_result"
    }
   ],
   "source": [
    "[(x, y) for x, y in G.out_degree if y == 0]"
   ]
  },
  {
   "cell_type": "code",
   "execution_count": 157,
   "metadata": {
    "collapsed": false
   },
   "outputs": [
    {
     "data": {
      "text/plain": [
       "['cntj',\n",
       " 'xhth',\n",
       " 'gyxo',\n",
       " 'pbga',\n",
       " 'havc',\n",
       " 'ktlj',\n",
       " 'qoyq',\n",
       " 'padx',\n",
       " 'ebii',\n",
       " 'fwft',\n",
       " 'jptl',\n",
       " 'ugml']"
      ]
     },
     "execution_count": 157,
     "metadata": {},
     "output_type": "execute_result"
    }
   ],
   "source": [
    "[x for x  in nx.dfs_predecessors(G,'tknk')]"
   ]
  }
 ],
 "metadata": {
  "kernelspec": {
   "display_name": "Python 3",
   "language": "python",
   "name": "python3"
  },
  "language_info": {
   "codemirror_mode": {
    "name": "ipython",
    "version": 3
   },
   "file_extension": ".py",
   "mimetype": "text/x-python",
   "name": "python",
   "nbconvert_exporter": "python",
   "pygments_lexer": "ipython3",
   "version": "3.4.5"
  }
 },
 "nbformat": 4,
 "nbformat_minor": 0
}
