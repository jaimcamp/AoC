{
 "cells": [
  {
   "cell_type": "code",
   "execution_count": 1,
   "metadata": {},
   "outputs": [],
   "source": [
    "# Python 3.x Utility Functions\n",
    "# From https://github.com/norvig/pytudes/blob/master/ipynb/Advent 2017.ipynb\n",
    "\n",
    "import re\n",
    "import numpy as np\n",
    "import math\n",
    "import random\n",
    "import urllib.request\n",
    "\n",
    "from collections import Counter, defaultdict, namedtuple, deque, abc, OrderedDict\n",
    "from functools   import lru_cache\n",
    "from itertools   import (permutations, combinations, chain, cycle, product, islice, \n",
    "                         takewhile, zip_longest, count as count_from)\n",
    "from heapq       import heappop, heappush\n",
    "\n",
    "identity = lambda x: x\n",
    "letters  = 'abcdefghijklmnopqrstuvwxyz'\n",
    "\n",
    "cat = ''.join\n",
    "\n",
    "Ø   = frozenset() # Empty set\n",
    "inf = float('inf')\n",
    "BIG = 10 ** 999"
   ]
  },
  {
   "cell_type": "code",
   "execution_count": 2,
   "metadata": {},
   "outputs": [
    {
     "name": "stdout",
     "output_type": "stream",
     "text": [
      "['pbga', '66']\n",
      "['xhth', '57']\n",
      "['ebii', '61']\n",
      "['havc', '66']\n",
      "['ktlj', '57']\n",
      "['fwft', '72', ['ktlj', 'cntj', 'xhth']]\n",
      "['qoyq', '66']\n",
      "['padx', '45', ['pbga', 'havc', 'qoyq']]\n",
      "['tknk', '41', ['ugml', 'padx', 'fwft']]\n",
      "['jptl', '61']\n",
      "['ugml', '68', ['gyxo', 'ebii', 'jptl']]\n",
      "['gyxo', '61']\n",
      "['cntj', '57']\n"
     ]
    }
   ],
   "source": [
    "#Read example\n",
    "top = []\n",
    "bottom = []\n",
    "weight = {}\n",
    "\n",
    "with open('example.txt') as f:\n",
    "    for line in f:\n",
    "        line = re.sub('\\(|\\)', '', line).split()\n",
    "        if len(line) > 2:\n",
    "            line[2] = [re.sub(',', '', x) for x in line[3:]]\n",
    "            line = line[:3]\n",
    "            bottom.append(line) \n",
    "        else:\n",
    "            top.append(line)\n",
    "            weight[line[0]] = int(line[1])\n",
    "        print(line)\n",
    "        "
   ]
  },
  {
   "cell_type": "code",
   "execution_count": 3,
   "metadata": {},
   "outputs": [],
   "source": [
    "import networkx as nx\n",
    "import matplotlib.pyplot as plt"
   ]
  },
  {
   "cell_type": "code",
   "execution_count": 4,
   "metadata": {},
   "outputs": [],
   "source": [
    "G = nx.DiGraph()"
   ]
  },
  {
   "cell_type": "code",
   "execution_count": 5,
   "metadata": {},
   "outputs": [],
   "source": [
    "G.add_nodes_from([x for x, y in top])\n",
    "G.add_nodes_from([x for x, y, z in bottom])"
   ]
  },
  {
   "cell_type": "code",
   "execution_count": 6,
   "metadata": {},
   "outputs": [],
   "source": [
    "edges = list(chain.from_iterable(list(list(product([x], z)) for x,y,z in bottom)))"
   ]
  },
  {
   "cell_type": "code",
   "execution_count": 7,
   "metadata": {},
   "outputs": [],
   "source": [
    "G.add_edges_from(edges)"
   ]
  },
  {
   "cell_type": "code",
   "execution_count": 8,
   "metadata": {},
   "outputs": [
    {
     "data": {
      "text/plain": [
       "OutEdgeView([('fwft', 'ktlj'), ('fwft', 'cntj'), ('fwft', 'xhth'), ('padx', 'pbga'), ('padx', 'havc'), ('padx', 'qoyq'), ('tknk', 'ugml'), ('tknk', 'padx'), ('tknk', 'fwft'), ('ugml', 'gyxo'), ('ugml', 'ebii'), ('ugml', 'jptl')])"
      ]
     },
     "execution_count": 8,
     "metadata": {},
     "output_type": "execute_result"
    }
   ],
   "source": [
    "G.out_edges()"
   ]
  },
  {
   "cell_type": "code",
   "execution_count": 64,
   "metadata": {},
   "outputs": [
    {
     "data": {
      "image/png": "[encoded data removed]",
      "text/plain": [
       "<matplotlib.figure.Figure at 0x7f83bdbb1160>"
      ]
     },
     "metadata": {},
     "output_type": "display_data"
    }
   ],
   "source": [
    "%matplotlib inline\n",
    "import matplotlib.pyplot as plt\n",
    "plt.subplot(121)\n",
    "nx.draw(G, with_labels=True)\n"
   ]
  },
  {
   "cell_type": "code",
   "execution_count": 10,
   "metadata": {},
   "outputs": [
    {
     "data": {
      "text/plain": [
       "[('tknk', 0)]"
      ]
     },
     "execution_count": 10,
     "metadata": {},
     "output_type": "execute_result"
    }
   ],
   "source": [
    "[(x, y) for x, y in G.in_degree if y == 0]"
   ]
  },
  {
   "cell_type": "code",
   "execution_count": 11,
   "metadata": {},
   "outputs": [],
   "source": [
    "#Read input.txt\n",
    "top = []\n",
    "bottom = []\n",
    "weight = {}\n",
    "\n",
    "with open('input.txt') as f:\n",
    "    for line in f:\n",
    "        line = re.sub('\\(|\\)', '', line).split()\n",
    "        if len(line) > 2:\n",
    "            line[2] = [re.sub(',', '', x) for x in line[3:]]\n",
    "            line = line[:3]\n",
    "            bottom.append(line) \n",
    "        else:\n",
    "            top.append(line)\n",
    "            weight[line[0]] = int(line[1])\n",
    "        \n",
    "        "
   ]
  },
  {
   "cell_type": "code",
   "execution_count": 12,
   "metadata": {},
   "outputs": [],
   "source": [
    "G = nx.DiGraph()\n",
    "G.add_nodes_from([x for x, y in top])\n",
    "G.add_nodes_from([x for x, y, z in bottom])\n",
    "edges = list(chain.from_iterable(list(list(product([x], z)) for x,y,z in bottom)))\n",
    "G.add_edges_from(edges)"
   ]
  },
  {
   "cell_type": "code",
   "execution_count": 207,
   "metadata": {},
   "outputs": [
    {
     "data": {
      "text/plain": [
       "[('vvsvez', 0)]"
      ]
     },
     "execution_count": 207,
     "metadata": {},
     "output_type": "execute_result"
    }
   ],
   "source": [
    "[(x, y) for x, y in G.in_degree if y == 0]"
   ]
  },
  {
   "cell_type": "markdown",
   "metadata": {},
   "source": [
    "## Part 2"
   ]
  },
  {
   "cell_type": "code",
   "execution_count": 201,
   "metadata": {},
   "outputs": [
    {
     "name": "stdout",
     "output_type": "stream",
     "text": [
      "['pbga', '66']\n",
      "['xhth', '57']\n",
      "['ebii', '61']\n",
      "['havc', '66']\n",
      "['ktlj', '57']\n",
      "['fwft', '72', ['ktlj', 'cntj', 'xhth']]\n",
      "['qoyq', '66']\n",
      "['padx', '45', ['pbga', 'havc', 'qoyq']]\n",
      "['tknk', '41', ['ugml', 'padx', 'fwft']]\n",
      "['jptl', '61']\n",
      "['ugml', '68', ['gyxo', 'ebii', 'jptl']]\n",
      "['gyxo', '61']\n",
      "['cntj', '57']\n"
     ]
    }
   ],
   "source": [
    "#Read example\n",
    "top = []\n",
    "bottom = []\n",
    "weight = {}\n",
    "\n",
    "with open('example.txt') as f:\n",
    "    for line in f:\n",
    "        line = re.sub('\\(|\\)', '', line).split()\n",
    "        if len(line) > 2:\n",
    "            line[2] = [re.sub(',', '', x) for x in line[3:]]\n",
    "            line = line[:3]\n",
    "            bottom.append(line) \n",
    "        else:\n",
    "            top.append(line)\n",
    "            weight[line[0]] = int(line[1])\n",
    "        print(line)\n",
    "        \n",
    "G = nx.DiGraph()\n",
    "G.add_nodes_from([x for x, y in top], weight = 0)\n",
    "G.add_nodes_from([x for x, y, z in bottom], weight = 0)\n",
    "edges = list(chain.from_iterable(list(list(product([x], z)) for x,y,z in bottom)))\n",
    "G.add_edges_from(edges)"
   ]
  },
  {
   "cell_type": "code",
   "execution_count": 202,
   "metadata": {},
   "outputs": [],
   "source": [
    "weight = {**{x: int(y) for x, y in top},**{x: int(y) for x, y, z in bottom}}"
   ]
  },
  {
   "cell_type": "code",
   "execution_count": 203,
   "metadata": {},
   "outputs": [],
   "source": [
    "nx.set_node_attributes(G, weight, 'weight')\n",
    "nx.set_node_attributes(G, weight, 'totalweight')"
   ]
  },
  {
   "cell_type": "code",
   "execution_count": 204,
   "metadata": {},
   "outputs": [
    {
     "data": {
      "text/plain": [
       "57"
      ]
     },
     "execution_count": 204,
     "metadata": {},
     "output_type": "execute_result"
    }
   ],
   "source": [
    "G.node['ktlj']['weight']"
   ]
  },
  {
   "cell_type": "code",
   "execution_count": 180,
   "metadata": {},
   "outputs": [
    {
     "data": {
      "text/plain": [
       "{'cntj': 57,\n",
       " 'ebii': 61,\n",
       " 'fwft': 72,\n",
       " 'gyxo': 61,\n",
       " 'havc': 66,\n",
       " 'jptl': 61,\n",
       " 'ktlj': 57,\n",
       " 'padx': 45,\n",
       " 'pbga': 66,\n",
       " 'qoyq': 66,\n",
       " 'tknk': 41,\n",
       " 'ugml': 68,\n",
       " 'xhth': 57}"
      ]
     },
     "execution_count": 180,
     "metadata": {},
     "output_type": "execute_result"
    }
   ],
   "source": [
    "weight"
   ]
  },
  {
   "cell_type": "code",
   "execution_count": 181,
   "metadata": {},
   "outputs": [],
   "source": [
    "endpoints = [x  for x, y in G.out_degree if y == 0]"
   ]
  },
  {
   "cell_type": "code",
   "execution_count": 182,
   "metadata": {},
   "outputs": [
    {
     "data": {
      "text/plain": [
       "{'cntj': 57,\n",
       " 'ebii': 61,\n",
       " 'fwft': 72,\n",
       " 'gyxo': 61,\n",
       " 'havc': 66,\n",
       " 'jptl': 61,\n",
       " 'ktlj': 57,\n",
       " 'padx': 45,\n",
       " 'pbga': 66,\n",
       " 'qoyq': 66,\n",
       " 'tknk': 41,\n",
       " 'ugml': 68,\n",
       " 'xhth': 57}"
      ]
     },
     "execution_count": 182,
     "metadata": {},
     "output_type": "execute_result"
    }
   ],
   "source": [
    "nx.get_node_attributes(G, 'totalweight')"
   ]
  },
  {
   "cell_type": "code",
   "execution_count": 183,
   "metadata": {},
   "outputs": [
    {
     "data": {
      "text/plain": [
       "['pbga', 'xhth', 'ebii', 'havc', 'ktlj', 'qoyq', 'jptl', 'gyxo', 'cntj']"
      ]
     },
     "execution_count": 183,
     "metadata": {},
     "output_type": "execute_result"
    }
   ],
   "source": [
    "endpoints"
   ]
  },
  {
   "cell_type": "code",
   "execution_count": 184,
   "metadata": {},
   "outputs": [
    {
     "name": "stdout",
     "output_type": "stream",
     "text": [
      "Error8\n"
     ]
    }
   ],
   "source": [
    "prevpoints = endpoints\n",
    "middlepoints = []\n",
    "kids_weight = 0\n",
    "while True:\n",
    "    middlepoints = set(chain.from_iterable([G.predecessors(x) for x in prevpoints]))\n",
    "    if len(middlepoints) == 0:\n",
    "        break\n",
    "    for node_middle in middlepoints:\n",
    "        succ_list = list(G.successors(node_middle))\n",
    "        for succ in succ_list:\n",
    "            current_kid_weight = G.node[succ]['totalweight']\n",
    "            if kids_weight == 0:\n",
    "                kids_weight = current_kid_weight\n",
    "            else:\n",
    "                if kids_weight != current_kid_weight:\n",
    "                    print('Error:' + str(kids_weight - current_kid_weight))\n",
    "                    break\n",
    "            G.node[node_middle]['totalweight'] += current_kid_weight\n",
    "        kids_weight = 0\n",
    "    prevpoints = middlepoints   \n",
    "    "
   ]
  },
  {
   "cell_type": "code",
   "execution_count": 263,
   "metadata": {},
   "outputs": [],
   "source": [
    "#Read input\n",
    "top = []\n",
    "bottom = []\n",
    "weight = {}\n",
    "\n",
    "with open('input.txt') as f:\n",
    "    for line in f:\n",
    "        line = re.sub('\\(|\\)', '', line).split()\n",
    "        if len(line) > 2:\n",
    "            line[2] = [re.sub(',', '', x) for x in line[3:]]\n",
    "            line = line[:3]\n",
    "            bottom.append(line) \n",
    "        else:\n",
    "            top.append(line)\n",
    "            weight[line[0]] = int(line[1])\n",
    "        \n",
    "G = nx.DiGraph()\n",
    "G.add_nodes_from([x for x, y in top], weight = 0)\n",
    "G.add_nodes_from([x for x, y, z in bottom], weight = 0)\n",
    "edges = list(chain.from_iterable(list(list(product([x], z)) for x,y,z in bottom)))\n",
    "G.add_edges_from(edges)\n",
    "\n",
    "weight = {**{x: int(y) for x, y in top},**{x: int(y) for x, y, z in bottom}}\n",
    "nx.set_node_attributes(G, weight, 'weight')\n",
    "nx.set_node_attributes(G, weight, 'totalweight')"
   ]
  },
  {
   "cell_type": "code",
   "execution_count": 264,
   "metadata": {},
   "outputs": [],
   "source": [
    "def buscanfat(Graph):\n",
    "    endpoints = [x  for x, y in Graph.out_degree if y == 0]\n",
    "    prevpoints = endpoints\n",
    "    middlepoints = []\n",
    "    kids_weight = 0\n",
    "    while True:\n",
    "        middlepoints = set(chain.from_iterable([Graph.predecessors(x) for x in prevpoints]))\n",
    "        if len(middlepoints) == 0:\n",
    "            return None\n",
    "        for node_middle in middlepoints:\n",
    "            succ_list = list(Graph.successors(node_middle))\n",
    "            for succ in succ_list:\n",
    "                current_kid_weight = Graph.node[succ]['totalweight']\n",
    "                if kids_weight == 0:\n",
    "                    kids_weight = current_kid_weight\n",
    "                else:\n",
    "                    if kids_weight != current_kid_weight:\n",
    "                        print(node_middle)\n",
    "                        print(kids_weight)\n",
    "                        print(current_kid_weight)\n",
    "                        exit = 'Error:' + str(kids_weight - current_kid_weight)\n",
    "                        return exit\n",
    "                Graph.node[node_middle]['totalweight'] += current_kid_weight\n",
    "            kids_weight = 0\n",
    "        prevpoints = middlepoints   \n",
    "    "
   ]
  },
  {
   "cell_type": "code",
   "execution_count": 265,
   "metadata": {},
   "outputs": [
    {
     "data": {
      "text/plain": [
       "['xxemgkm', 'havvqw']"
      ]
     },
     "execution_count": 265,
     "metadata": {},
     "output_type": "execute_result"
    }
   ],
   "source": [
    "list(G.successors(list(set(chain.from_iterable([G.predecessors(x) for x in [x  for x, y in G.out_degree if y == 0]])))[0]))"
   ]
  },
  {
   "cell_type": "code",
   "execution_count": 266,
   "metadata": {},
   "outputs": [
    {
     "name": "stdout",
     "output_type": "stream",
     "text": [
      "czvcms\n",
      "191\n",
      "11\n"
     ]
    },
    {
     "data": {
      "text/plain": [
       "'Error:180'"
      ]
     },
     "execution_count": 266,
     "metadata": {},
     "output_type": "execute_result"
    }
   ],
   "source": [
    "buscanfat(G)"
   ]
  },
  {
   "cell_type": "code",
   "execution_count": 268,
   "metadata": {},
   "outputs": [
    {
     "data": {
      "text/plain": [
       "1990"
      ]
     },
     "execution_count": 268,
     "metadata": {},
     "output_type": "execute_result"
    }
   ],
   "source": [
    "G.node['czvcms']['weight']"
   ]
  },
  {
   "cell_type": "code",
   "execution_count": 252,
   "metadata": {},
   "outputs": [
    {
     "data": {
      "text/plain": [
       "-155458"
      ]
     },
     "execution_count": 252,
     "metadata": {},
     "output_type": "execute_result"
    }
   ],
   "source": [
    "kids_weight - current_kid_weight"
   ]
  },
  {
   "cell_type": "code",
   "execution_count": 262,
   "metadata": {},
   "outputs": [
    {
     "data": {
      "text/plain": [
       "1810"
      ]
     },
     "execution_count": 262,
     "metadata": {},
     "output_type": "execute_result"
    }
   ],
   "source": [
    "1990 - 180"
   ]
  }
 ],
 "metadata": {
  "kernelspec": {
   "display_name": "Python 3",
   "language": "python",
   "name": "python3"
  },
  "language_info": {
   "codemirror_mode": {
    "name": "ipython",
    "version": 3
   },
   "file_extension": ".py",
   "mimetype": "text/x-python",
   "name": "python",
   "nbconvert_exporter": "python",
   "pygments_lexer": "ipython3",
   "version": "3.6.3"
  }
 },
 "nbformat": 4,
 "nbformat_minor": 1
}
