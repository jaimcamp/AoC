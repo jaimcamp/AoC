{
 "cells": [
  {
   "cell_type": "code",
   "execution_count": 1,
   "metadata": {},
   "outputs": [],
   "source": [
    "# Python 3.x Utility Functions\n",
    "# From https://github.com/norvig/pytudes/blob/master/ipynb/Advent 2017.ipynb\n",
    "\n",
    "import re\n",
    "import numpy as np\n",
    "import math\n",
    "import random\n",
    "import urllib.request\n",
    "\n",
    "from collections import Counter, defaultdict, namedtuple, deque, abc, OrderedDict\n",
    "from functools   import lru_cache\n",
    "from itertools   import (permutations, combinations, chain, cycle, product, islice, \n",
    "                         takewhile, zip_longest, count as count_from)\n",
    "from heapq       import heappop, heappush\n",
    "\n",
    "identity = lambda x: x\n",
    "letters  = 'abcdefghijklmnopqrstuvwxyz'\n",
    "\n",
    "cat = ''.join\n",
    "\n",
    "Ø   = frozenset() # Empty set\n",
    "inf = float('inf')\n",
    "BIG = 10 ** 999"
   ]
  },
  {
   "cell_type": "code",
   "execution_count": 2,
   "metadata": {},
   "outputs": [],
   "source": [
    "#Part 01"
   ]
  },
  {
   "cell_type": "code",
   "execution_count": 6,
   "metadata": {},
   "outputs": [],
   "source": [
    "ex = '''0: 3\n",
    "1: 2\n",
    "4: 4\n",
    "6: 4'''\n",
    "ex = np.array([list(map(int, x.split(\": \"))) for x in ex.split(\"\\n\")])"
   ]
  },
  {
   "cell_type": "code",
   "execution_count": 95,
   "metadata": {},
   "outputs": [],
   "source": [
    "ex2 = '''0: 5\n",
    "1: 2\n",
    "2: 3\n",
    "4: 4\n",
    "6: 6\n",
    "8: 4\n",
    "10: 8\n",
    "12: 6\n",
    "14: 6\n",
    "16: 8\n",
    "18: 6\n",
    "20: 9\n",
    "22: 8\n",
    "24: 10\n",
    "26: 8\n",
    "28: 8\n",
    "30: 12\n",
    "32: 8\n",
    "34: 12\n",
    "36: 10\n",
    "38: 12\n",
    "40: 12\n",
    "42: 12\n",
    "44: 12\n",
    "46: 12\n",
    "48: 14\n",
    "50: 12\n",
    "52: 14\n",
    "54: 12\n",
    "56: 14\n",
    "58: 12\n",
    "60: 14\n",
    "62: 14\n",
    "64: 14\n",
    "66: 14\n",
    "68: 14\n",
    "70: 14\n",
    "72: 14\n",
    "76: 14\n",
    "80: 18\n",
    "84: 14\n",
    "90: 18\n",
    "92: 17'''\n",
    "ex2 = np.array([list(map(int, x.split(\": \"))) for x in ex2.split(\"\\n\")])"
   ]
  },
  {
   "cell_type": "code",
   "execution_count": 97,
   "metadata": {},
   "outputs": [
    {
     "name": "stdout",
     "output_type": "stream",
     "text": [
      "0\n",
      "chocan\n",
      "1\n",
      "2\n",
      "3\n",
      "4\n",
      "5\n",
      "6\n",
      "7\n",
      "8\n",
      "9\n",
      "10\n",
      "11\n",
      "12\n",
      "13\n",
      "14\n",
      "15\n",
      "16\n",
      "17\n",
      "18\n",
      "19\n",
      "20\n",
      "21\n",
      "22\n",
      "23\n",
      "24\n",
      "25\n",
      "26\n",
      "27\n",
      "28\n",
      "chocan\n",
      "29\n",
      "30\n",
      "31\n",
      "32\n",
      "33\n",
      "34\n",
      "35\n",
      "36\n",
      "chocan\n",
      "37\n",
      "38\n",
      "39\n",
      "40\n",
      "41\n",
      "42\n",
      "43\n",
      "44\n",
      "chocan\n",
      "45\n",
      "46\n",
      "47\n",
      "48\n",
      "49\n",
      "50\n",
      "51\n",
      "52\n",
      "chocan\n",
      "53\n",
      "54\n",
      "55\n",
      "56\n",
      "57\n",
      "58\n",
      "59\n",
      "60\n",
      "61\n",
      "62\n",
      "63\n",
      "64\n",
      "65\n",
      "66\n",
      "67\n",
      "68\n",
      "69\n",
      "70\n",
      "71\n",
      "72\n",
      "73\n",
      "74\n",
      "75\n",
      "76\n",
      "77\n",
      "78\n",
      "79\n",
      "80\n",
      "81\n",
      "82\n",
      "83\n",
      "84\n",
      "85\n",
      "86\n",
      "87\n",
      "88\n",
      "89\n",
      "90\n",
      "91\n",
      "92\n"
     ]
    }
   ],
   "source": [
    "time = 0\n",
    "chocan = []\n",
    "while time <= max(ex2[:,0]):\n",
    "    print(time)\n",
    "    #Begin of picosecond\n",
    "    x_pos = time\n",
    "    if x_pos not in ex2[:,0]:\n",
    "        time += 1\n",
    "        continue\n",
    "    else:\n",
    "        r = int(ex2[np.where(ex2[:,0] == x_pos), 1])\n",
    "    #check if crash\n",
    "    y_pos = position(r, time)\n",
    "    if y_pos == 0:\n",
    "        chocan.append(x_pos)\n",
    "        print(\"chocan\")\n",
    "        \n",
    "    #End of picosend\n",
    "    time += 1"
   ]
  },
  {
   "cell_type": "code",
   "execution_count": 44,
   "metadata": {},
   "outputs": [],
   "source": [
    "def position(range_w, time):\n",
    "    complete = np.concatenate((np.arange(range_w)[::+1], np.arange(1, range_w - 1)[::-1]))\n",
    "    tmp_pos = time % ((range_w * 2) - 2)\n",
    "    return complete[tmp_pos]\n",
    "    "
   ]
  },
  {
   "cell_type": "code",
   "execution_count": 98,
   "metadata": {},
   "outputs": [
    {
     "data": {
      "text/plain": [
       "1840"
      ]
     },
     "execution_count": 98,
     "metadata": {},
     "output_type": "execute_result"
    }
   ],
   "source": [
    "sum(np.multiply([int(ex2[np.where(ex2[:,0] == x), 1])  for x in chocan] , chocan))"
   ]
  },
  {
   "cell_type": "code",
   "execution_count": 99,
   "metadata": {},
   "outputs": [],
   "source": [
    "#Part2"
   ]
  },
  {
   "cell_type": "code",
   "execution_count": 6,
   "metadata": {},
   "outputs": [],
   "source": [
    "ex = '''0: 3\n",
    "1: 2\n",
    "4: 4\n",
    "6: 4'''\n",
    "ex = np.array([list(map(int, x.split(\": \"))) for x in ex.split(\"\\n\")])"
   ]
  },
  {
   "cell_type": "code",
   "execution_count": 95,
   "metadata": {},
   "outputs": [],
   "source": [
    "ex2 = '''0: 5\n",
    "1: 2\n",
    "2: 3\n",
    "4: 4\n",
    "6: 6\n",
    "8: 4\n",
    "10: 8\n",
    "12: 6\n",
    "14: 6\n",
    "16: 8\n",
    "18: 6\n",
    "20: 9\n",
    "22: 8\n",
    "24: 10\n",
    "26: 8\n",
    "28: 8\n",
    "30: 12\n",
    "32: 8\n",
    "34: 12\n",
    "36: 10\n",
    "38: 12\n",
    "40: 12\n",
    "42: 12\n",
    "44: 12\n",
    "46: 12\n",
    "48: 14\n",
    "50: 12\n",
    "52: 14\n",
    "54: 12\n",
    "56: 14\n",
    "58: 12\n",
    "60: 14\n",
    "62: 14\n",
    "64: 14\n",
    "66: 14\n",
    "68: 14\n",
    "70: 14\n",
    "72: 14\n",
    "76: 14\n",
    "80: 18\n",
    "84: 14\n",
    "90: 18\n",
    "92: 17'''\n",
    "ex2 = np.array([list(map(int, x.split(\": \"))) for x in ex2.split(\"\\n\")])"
   ]
  },
  {
   "cell_type": "code",
   "execution_count": 108,
   "metadata": {},
   "outputs": [
    {
     "ename": "KeyboardInterrupt",
     "evalue": "",
     "output_type": "error",
     "traceback": [
      "\u001b[0;31m---------------------------------------------------------------------------\u001b[0m",
      "\u001b[0;31mKeyboardInterrupt\u001b[0m                         Traceback (most recent call last)",
      "\u001b[0;32m<ipython-input-108-cceaa703e89a>\u001b[0m in \u001b[0;36m<module>\u001b[0;34m()\u001b[0m\n\u001b[1;32m      3\u001b[0m     \u001b[0mtime\u001b[0m \u001b[0;34m=\u001b[0m \u001b[0;36m0\u001b[0m\u001b[0;34m\u001b[0m\u001b[0m\n\u001b[1;32m      4\u001b[0m     \u001b[0mchocan\u001b[0m \u001b[0;34m=\u001b[0m \u001b[0;34m[\u001b[0m\u001b[0;34m]\u001b[0m\u001b[0;34m\u001b[0m\u001b[0m\n\u001b[0;32m----> 5\u001b[0;31m     \u001b[0;32mwhile\u001b[0m \u001b[0mtime\u001b[0m \u001b[0;34m<=\u001b[0m \u001b[0mmax\u001b[0m\u001b[0;34m(\u001b[0m\u001b[0mex2\u001b[0m\u001b[0;34m[\u001b[0m\u001b[0;34m:\u001b[0m\u001b[0;34m,\u001b[0m\u001b[0;36m0\u001b[0m\u001b[0;34m]\u001b[0m\u001b[0;34m)\u001b[0m\u001b[0;34m:\u001b[0m\u001b[0;34m\u001b[0m\u001b[0m\n\u001b[0m\u001b[1;32m      6\u001b[0m         \u001b[0;31m#Begin of picosecond\u001b[0m\u001b[0;34m\u001b[0m\u001b[0;34m\u001b[0m\u001b[0m\n\u001b[1;32m      7\u001b[0m         \u001b[0mx_pos\u001b[0m \u001b[0;34m=\u001b[0m \u001b[0mtime\u001b[0m\u001b[0;34m\u001b[0m\u001b[0m\n",
      "\u001b[0;31mKeyboardInterrupt\u001b[0m: "
     ]
    }
   ],
   "source": [
    "delay = 0\n",
    "while True:\n",
    "    time = 0 \n",
    "    chocan = []\n",
    "    while time <= max(ex2[:,0]):\n",
    "        #Begin of picosecond\n",
    "        x_pos = time\n",
    "        if x_pos not in ex2[:,0]:\n",
    "            time += 1\n",
    "            continue\n",
    "        else:\n",
    "            r = int(ex2[np.where(ex2[:,0] == x_pos), 1])\n",
    "        #check if crash\n",
    "        y_pos = position(r, time + delay)\n",
    "        if y_pos == 0:\n",
    "            chocan.append(x_pos)\n",
    "            \n",
    "        #End of picosend\n",
    "        time += 1\n",
    "    if len(chocan) == 0:\n",
    "        print(delay)\n",
    "        break\n",
    "    else:\n",
    "        delay += 1"
   ]
  },
  {
   "cell_type": "code",
   "execution_count": null,
   "metadata": {},
   "outputs": [],
   "source": [
    "delay = 0\n",
    "todos = False\n",
    "#for delay in range(100000000):\n",
    "while True:\n",
    "    chao = False\n",
    "    for x in ex2:\n",
    "        pos = position(x[1], x[0] + delay)\n",
    "        if pos == 0:\n",
    "            chao = True\n",
    "            break\n",
    "    delay += 1\n",
    "    if chao:\n",
    "        continue\n",
    "    else:\n",
    "        print(delay)\n",
    "    \n"
   ]
  },
  {
   "cell_type": "code",
   "execution_count": 119,
   "metadata": {},
   "outputs": [
    {
     "data": {
      "text/plain": [
       "array([[0, 3],\n",
       "       [1, 2],\n",
       "       [4, 4],\n",
       "       [6, 4]])"
      ]
     },
     "execution_count": 119,
     "metadata": {},
     "output_type": "execute_result"
    }
   ],
   "source": [
    "ex"
   ]
  },
  {
   "cell_type": "code",
   "execution_count": 121,
   "metadata": {},
   "outputs": [
    {
     "ename": "IndexError",
     "evalue": "index -1 is out of bounds for axis 0 with size 0",
     "output_type": "error",
     "traceback": [
      "\u001b[0;31m---------------------------------------------------------------------------\u001b[0m",
      "\u001b[0;31mIndexError\u001b[0m                                Traceback (most recent call last)",
      "\u001b[0;32m<ipython-input-121-21e3444f3571>\u001b[0m in \u001b[0;36m<module>\u001b[0;34m()\u001b[0m\n\u001b[0;32m----> 1\u001b[0;31m \u001b[0mposition\u001b[0m\u001b[0;34m(\u001b[0m\u001b[0;36m0\u001b[0m\u001b[0;34m,\u001b[0m \u001b[0;36m3\u001b[0m\u001b[0;34m)\u001b[0m\u001b[0;34m\u001b[0m\u001b[0m\n\u001b[0m",
      "\u001b[0;32m<ipython-input-44-126d292e4e8b>\u001b[0m in \u001b[0;36mposition\u001b[0;34m(range_w, time)\u001b[0m\n\u001b[1;32m      2\u001b[0m     \u001b[0mcomplete\u001b[0m \u001b[0;34m=\u001b[0m \u001b[0mnp\u001b[0m\u001b[0;34m.\u001b[0m\u001b[0mconcatenate\u001b[0m\u001b[0;34m(\u001b[0m\u001b[0;34m(\u001b[0m\u001b[0mnp\u001b[0m\u001b[0;34m.\u001b[0m\u001b[0marange\u001b[0m\u001b[0;34m(\u001b[0m\u001b[0mrange_w\u001b[0m\u001b[0;34m)\u001b[0m\u001b[0;34m[\u001b[0m\u001b[0;34m:\u001b[0m\u001b[0;34m:\u001b[0m\u001b[0;34m+\u001b[0m\u001b[0;36m1\u001b[0m\u001b[0;34m]\u001b[0m\u001b[0;34m,\u001b[0m \u001b[0mnp\u001b[0m\u001b[0;34m.\u001b[0m\u001b[0marange\u001b[0m\u001b[0;34m(\u001b[0m\u001b[0;36m1\u001b[0m\u001b[0;34m,\u001b[0m \u001b[0mrange_w\u001b[0m \u001b[0;34m-\u001b[0m \u001b[0;36m1\u001b[0m\u001b[0;34m)\u001b[0m\u001b[0;34m[\u001b[0m\u001b[0;34m:\u001b[0m\u001b[0;34m:\u001b[0m\u001b[0;34m-\u001b[0m\u001b[0;36m1\u001b[0m\u001b[0;34m]\u001b[0m\u001b[0;34m)\u001b[0m\u001b[0;34m)\u001b[0m\u001b[0;34m\u001b[0m\u001b[0m\n\u001b[1;32m      3\u001b[0m     \u001b[0mtmp_pos\u001b[0m \u001b[0;34m=\u001b[0m \u001b[0mtime\u001b[0m \u001b[0;34m%\u001b[0m \u001b[0;34m(\u001b[0m\u001b[0;34m(\u001b[0m\u001b[0mrange_w\u001b[0m \u001b[0;34m*\u001b[0m \u001b[0;36m2\u001b[0m\u001b[0;34m)\u001b[0m \u001b[0;34m-\u001b[0m \u001b[0;36m2\u001b[0m\u001b[0;34m)\u001b[0m\u001b[0;34m\u001b[0m\u001b[0m\n\u001b[0;32m----> 4\u001b[0;31m     \u001b[0;32mreturn\u001b[0m \u001b[0mcomplete\u001b[0m\u001b[0;34m[\u001b[0m\u001b[0mtmp_pos\u001b[0m\u001b[0;34m]\u001b[0m\u001b[0;34m\u001b[0m\u001b[0m\n\u001b[0m\u001b[1;32m      5\u001b[0m \u001b[0;34m\u001b[0m\u001b[0m\n",
      "\u001b[0;31mIndexError\u001b[0m: index -1 is out of bounds for axis 0 with size 0"
     ]
    }
   ],
   "source": [
    "position(0, 3)"
   ]
  }
 ],
 "metadata": {
  "kernelspec": {
   "display_name": "Python 3",
   "language": "python",
   "name": "python3"
  },
  "language_info": {
   "codemirror_mode": {
    "name": "ipython",
    "version": 3
   },
   "file_extension": ".py",
   "mimetype": "text/x-python",
   "name": "python",
   "nbconvert_exporter": "python",
   "pygments_lexer": "ipython3",
   "version": "3.6.3"
  }
 },
 "nbformat": 4,
 "nbformat_minor": 2
}
